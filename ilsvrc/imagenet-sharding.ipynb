{
 "cells": [
  {
   "cell_type": "code",
   "execution_count": 14,
   "metadata": {},
   "outputs": [],
   "source": [
    "import shutil\n",
    "from pathlib import Path\n",
    "import numpy as np\n",
    "import pandas as pd\n",
    "import matplotlib.pyplot as plt\n",
    "import imageio.v3 as iio\n",
    "\n",
    "import torchdata.datapipes as dp\n",
    "\n",
    "from sklearn.preprocessing import LabelEncoder\n",
    "from streaming import StreamingDataset, MDSWriter\n",
    "\n",
    "from streaming.base.util import clean_stale_shared_memory\n",
    "\n",
    "\n",
    "from tqdm import tqdm\n",
    "from typing import Callable, Any\n",
    "\n",
    "from dotenv import load_dotenv\n",
    "load_dotenv();"
   ]
  },
  {
   "cell_type": "code",
   "execution_count": 45,
   "metadata": {},
   "outputs": [],
   "source": [
    "#IMAGENET = Path(\"/run/media/sambhav/2A2E24A52E246BCF/Users/SambhavChandra/datasets/imagenet/\") \n",
    "#IMAGENET_ZIP = \"C://Users//SambhavChandra//dev//datasets//imagenet-object-localization-challenge.zip\"\n",
    "IMAGENET = Path.home() / \"dev\" / \"datasets\" / \"imagenet\"\n",
    "TRAIN_DIR = IMAGENET / \"ILSVRC\" / \"Data\" / \"CLS-LOC\" / \"train\"\n",
    "VAL_DIR = IMAGENET / \"ILSVRC\" / \"Data\" / \"CLS-LOC\" / \"val\"\n",
    "SHARDS = IMAGENET / \"ILSVRC\" / \"DATA\" / \"Shards\""
   ]
  },
  {
   "cell_type": "code",
   "execution_count": 6,
   "metadata": {},
   "outputs": [],
   "source": [
    "def label_from_path(path: Path) -> str:\n",
    "    return path.parent.stem\n",
    "\n",
    "def reset_dir(dir_path: Path) -> None:\n",
    "    if dir_path.exists() and dir_path.is_dir():\n",
    "        shutil.rmtree(dir_path)\n",
    "    dir_path.mkdir(parents = True, exist_ok = True)\n",
    "\n",
    "labels = pd.read_csv(\"labels.csv\", index_col=0)\n",
    "class_names = labels.index.tolist()\n",
    "\n",
    "label_encoder = LabelEncoder().fit(class_names)\n"
   ]
  },
  {
   "cell_type": "code",
   "execution_count": 7,
   "metadata": {},
   "outputs": [],
   "source": [
    "train = pd.read_csv(\"train.csv\", index_col=0)\n",
    "train = train.sort_values(\"label\").reset_index(drop = True)\n",
    "train[\"path\"] = train[\"path\"].apply(lambda x: TRAIN_DIR/x)"
   ]
  },
  {
   "cell_type": "code",
   "execution_count": 8,
   "metadata": {},
   "outputs": [],
   "source": [
    "val = pd.read_csv(\"val.csv\", index_col=0)\n",
    "val = val.sort_values(\"label\").reset_index(drop = True)\n",
    "val[\"path\"] = val[\"path\"].apply(lambda x: VAL_DIR/x)"
   ]
  },
  {
   "cell_type": "code",
   "execution_count": 7,
   "metadata": {},
   "outputs": [
    {
     "name": "stderr",
     "output_type": "stream",
     "text": [
      "100%|██████████| 1000/1000 [00:06<00:00, 162.84it/s]\n"
     ]
    }
   ],
   "source": [
    "df = train[:1000]\n",
    "local_shards = SHARDS / \"train\"\n",
    "\n",
    "dtypes = {\"image\": \"bytes\", \"label\": \"int\"}\n",
    "reset_dir(local_shards)\n",
    "with MDSWriter(out = local_shards.as_posix(), columns = dtypes) as out: \n",
    "    for idx, example in tqdm(df.iterrows(), total=len(df)):\n",
    "        try:\n",
    "            image = iio.imread(example.path, extension=\".jpg\")\n",
    "            image_bytes = iio.imwrite(\"<bytes>\", image, extension=\".jpg\")\n",
    "        except:\n",
    "            print(idx)\n",
    "\n",
    "        label = example.label \n",
    "        label_int = int(label_encoder.transform([label])[0])\n",
    "\n",
    "        sample = {\n",
    "            \"image\": image_bytes,\n",
    "            \"label\": label_int\n",
    "        }\n",
    "        out.write(sample)"
   ]
  }
 ],
 "metadata": {
  "kernelspec": {
   "display_name": "dev",
   "language": "python",
   "name": "python3"
  },
  "language_info": {
   "codemirror_mode": {
    "name": "ipython",
    "version": 3
   },
   "file_extension": ".py",
   "mimetype": "text/x-python",
   "name": "python",
   "nbconvert_exporter": "python",
   "pygments_lexer": "ipython3",
   "version": "3.11.4"
  },
  "orig_nbformat": 4
 },
 "nbformat": 4,
 "nbformat_minor": 2
}

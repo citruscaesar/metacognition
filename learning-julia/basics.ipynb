{
 "cells": [
  {
   "cell_type": "markdown",
   "metadata": {},
   "source": [
    "## Useful Functions to Get Started"
   ]
  },
  {
   "cell_type": "markdown",
   "metadata": {},
   "source": [
    "#### Documentation\n",
    "Official Docs can be found at: [Julia Docs](https://docs.julialang.org)\n",
    "\n",
    "Best way to access specific documentation:\n",
    "1. REPL: **?** or **@doc** macro\n",
    "1. Pluto: Live Docs \n",
    "2. VSCode Jupyter and Julia Extension:\n",
    "   1. Mouse hover over function call **(most convenient)**\n",
    "   2. **@doc** macro, however the rendering of Markdown.MD Objects in VSCode Jupyter is broken, print function is ugly "
   ]
  },
  {
   "cell_type": "code",
   "execution_count": null,
   "metadata": {},
   "outputs": [],
   "source": [
    "print(@doc sum)"
   ]
  },
  {
   "cell_type": "code",
   "execution_count": 25,
   "metadata": {},
   "outputs": [
    {
     "data": {
      "text/latex": [
       "Markdown.jl is an alternative to Jupyter Markdown Cells to parse markdown expressions.  Wrap markdown text in md\"\" (\\textbf{@md\\_str}) macro to parse and render in Pluto Notebooks. Refer to (https://docs.julialang.org/en/v1/stdlib/Markdown) for more information. However, as markdown rendering through julia is broken in VSCode Jupyter currently, stick to regular markdown cells. \n",
       "\n",
       "$$f(x) = ax^2 + bx + c$$\n"
      ],
      "text/markdown": [
       "Markdown.jl is an alternative to Jupyter Markdown Cells to parse markdown expressions.  Wrap markdown text in md\"\" (**@md_str**) macro to parse and render in Pluto Notebooks. Refer to (https://docs.julialang.org/en/v1/stdlib/Markdown) for more information. However, as markdown rendering through julia is broken in VSCode Jupyter currently, stick to regular markdown cells. \n",
       "\n",
       "$$\n",
       "f(x) = ax^2 + bx + c\n",
       "$$\n"
      ],
      "text/plain": [
       "  Markdown.jl is an alternative to Jupyter Markdown Cells to parse markdown\n",
       "  expressions. Wrap markdown text in md\"\" (\u001b[1m@md_str\u001b[22m) macro to parse and render\n",
       "  in Pluto Notebooks. Refer to\n",
       "  (https://docs.julialang.org/en/v1/stdlib/Markdown) for more information.\n",
       "  However, as markdown rendering through julia is broken in VSCode Jupyter\n",
       "  currently, stick to regular markdown cells.\n",
       "\n",
       "\u001b[35m  f(x) = ax^2 + bx + c\u001b[39m"
      ]
     },
     "metadata": {},
     "output_type": "display_data"
    }
   ],
   "source": [
    "using Markdown\n",
    "md\"\"\"\n",
    "Markdown.jl is an alternative to Jupyter Markdown Cells to parse markdown expressions. \n",
    "Wrap markdown text in md\"\" (**@md_str**) macro to parse and render in Pluto Notebooks.\n",
    "Refer to (https://docs.julialang.org/en/v1/stdlib/Markdown) for more information.\n",
    "However, as markdown rendering through julia is broken in VSCode Jupyter currently, stick to regular markdown cells. \n",
    "\n",
    "\n",
    "```math\n",
    "f(x) = ax^2 + bx + c\n",
    "```\n",
    "\n",
    "\"\"\""
   ]
  },
  {
   "cell_type": "markdown",
   "metadata": {},
   "source": [
    "#### Get information about a function \n",
    "\n",
    "* Use the **methods(****)** function to list all the available methods.\n",
    "* Use **@which** macro to show which method is being called.\n",
    "* Use **typeof()** to return the type(class) of an object. Extremely useful while debugging"
   ]
  },
  {
   "cell_type": "code",
   "execution_count": 26,
   "metadata": {},
   "outputs": [
    {
     "data": {
      "text/html": [
       "# 10 methods for generic function <b>sum</b>:<ul><li> sum(r::<b>StepRangeLen{<:Any, <:Base.TwicePrecision, <:Base.TwicePrecision}</b>) in Base at <a href=\"https://github.com/JuliaLang/julia/tree/5544a0fab7648cfa61fe79cd557a7504a92ec1b5/base/twiceprecision.jl#L623\" target=\"_blank\">twiceprecision.jl:623</a></li> <li> sum(r::<b>StepRangeLen</b>) in Base at <a href=\"https://github.com/JuliaLang/julia/tree/5544a0fab7648cfa61fe79cd557a7504a92ec1b5/base/twiceprecision.jl#L608\" target=\"_blank\">twiceprecision.jl:608</a></li> <li> sum(r::<b>AbstractRange{<:Real}</b>) in Base at <a href=\"https://github.com/JuliaLang/julia/tree/5544a0fab7648cfa61fe79cd557a7504a92ec1b5/base/range.jl#L1387\" target=\"_blank\">range.jl:1387</a></li> <li> sum(a::<b>AbstractArray{Bool}</b>; <i>kw...</i>) in Base at <a href=\"https://github.com/JuliaLang/julia/tree/5544a0fab7648cfa61fe79cd557a7504a92ec1b5/base/reduce.jl#L550\" target=\"_blank\">reduce.jl:550</a></li> <li> sum(arr::<b>Union{Tuple{BigInt, Vararg{BigInt}}, AbstractArray{BigInt}}</b>) in Base.GMP at <a href=\"https://github.com/JuliaLang/julia/tree/5544a0fab7648cfa61fe79cd557a7504a92ec1b5/base/gmp.jl#L658\" target=\"_blank\">gmp.jl:658</a></li> <li> sum(arr::<b>AbstractArray{BigFloat}</b>) in Base.MPFR at <a href=\"https://github.com/JuliaLang/julia/tree/5544a0fab7648cfa61fe79cd557a7504a92ec1b5/base/mpfr.jl#L738\" target=\"_blank\">mpfr.jl:738</a></li> <li> sum(a::<b>AbstractArray</b>; <i>dims, kw...</i>) in Base at <a href=\"https://github.com/JuliaLang/julia/tree/5544a0fab7648cfa61fe79cd557a7504a92ec1b5/base/reducedim.jl#L994\" target=\"_blank\">reducedim.jl:994</a></li> <li> sum(a; <i>kw...</i>) in Base at <a href=\"https://github.com/JuliaLang/julia/tree/5544a0fab7648cfa61fe79cd557a7504a92ec1b5/base/reduce.jl#L549\" target=\"_blank\">reduce.jl:549</a></li> <li> sum(f, a::<b>AbstractArray</b>; <i>dims, kw...</i>) in Base at <a href=\"https://github.com/JuliaLang/julia/tree/5544a0fab7648cfa61fe79cd557a7504a92ec1b5/base/reducedim.jl#L995\" target=\"_blank\">reducedim.jl:995</a></li> <li> sum(f, a; <i>kw...</i>) in Base at <a href=\"https://github.com/JuliaLang/julia/tree/5544a0fab7648cfa61fe79cd557a7504a92ec1b5/base/reduce.jl#L520\" target=\"_blank\">reduce.jl:520</a></li> </ul>"
      ],
      "text/plain": [
       "# 10 methods for generic function \"sum\":\n",
       "[1] sum(r::StepRangeLen{<:Any, <:Base.TwicePrecision, <:Base.TwicePrecision}) in Base at twiceprecision.jl:623\n",
       "[2] sum(r::StepRangeLen) in Base at twiceprecision.jl:608\n",
       "[3] sum(r::AbstractRange{<:Real}) in Base at range.jl:1387\n",
       "[4] sum(a::AbstractArray{Bool}; kw...) in Base at reduce.jl:550\n",
       "[5] sum(arr::Union{Tuple{BigInt, Vararg{BigInt}}, AbstractArray{BigInt}}) in Base.GMP at gmp.jl:658\n",
       "[6] sum(arr::AbstractArray{BigFloat}) in Base.MPFR at mpfr.jl:738\n",
       "[7] sum(a::AbstractArray; dims, kw...) in Base at reducedim.jl:994\n",
       "[8] sum(a; kw...) in Base at reduce.jl:549\n",
       "[9] sum(f, a::AbstractArray; dims, kw...) in Base at reducedim.jl:995\n",
       "[10] sum(f, a; kw...) in Base at reduce.jl:520"
      ]
     },
     "metadata": {},
     "output_type": "display_data"
    }
   ],
   "source": [
    "methods(sum)"
   ]
  },
  {
   "cell_type": "code",
   "execution_count": 28,
   "metadata": {},
   "outputs": [
    {
     "data": {
      "text/html": [
       "sum(f, a; <i>kw...</i>) in Base at <a href=\"https://github.com/JuliaLang/julia/tree/5544a0fab7648cfa61fe79cd557a7504a92ec1b5/base/reduce.jl#L520\" target=\"_blank\">reduce.jl:520</a>"
      ],
      "text/plain": [
       "sum(f, a; kw...) in Base at reduce.jl:520"
      ]
     },
     "metadata": {},
     "output_type": "display_data"
    }
   ],
   "source": [
    "@which(sum(1, 2))"
   ]
  },
  {
   "cell_type": "code",
   "execution_count": null,
   "metadata": {},
   "outputs": [],
   "source": []
  },
  {
   "cell_type": "code",
   "execution_count": null,
   "metadata": {},
   "outputs": [],
   "source": []
  }
 ],
 "metadata": {
  "kernelspec": {
   "display_name": "Julia 1.8.0",
   "language": "julia",
   "name": "julia-1.8"
  },
  "language_info": {
   "file_extension": ".jl",
   "mimetype": "application/julia",
   "name": "julia",
   "version": "1.8.0"
  },
  "orig_nbformat": 4
 },
 "nbformat": 4,
 "nbformat_minor": 2
}

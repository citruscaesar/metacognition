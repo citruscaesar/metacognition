{
 "cells": [
  {
   "cell_type": "markdown",
   "metadata": {},
   "source": [
    "### Constructors"
   ]
  },
  {
   "cell_type": "code",
   "execution_count": 77,
   "metadata": {},
   "outputs": [
    {
     "data": {
      "text/plain": [
       "2×3 Matrix{Float32}:\n",
       " 0.0657934   0.0657935   0.0270478\n",
       " 4.5629f-41  4.5629f-41  4.5629f-41"
      ]
     },
     "metadata": {},
     "output_type": "display_data"
    }
   ],
   "source": [
    "# N-Dimensional Array \n",
    "# (Uninitalized, i.e. Just Allocate Space in Memory)\n",
    "Array{Float32}(undef, (2, 3))"
   ]
  },
  {
   "cell_type": "code",
   "execution_count": 80,
   "metadata": {},
   "outputs": [
    {
     "data": {
      "text/plain": [
       "2×3×2 Array{Float64, 3}:\n",
       "[:, :, 1] =\n",
       " 7.0  7.0  7.0\n",
       " 7.0  7.0  7.0\n",
       "\n",
       "[:, :, 2] =\n",
       " 7.0  7.0  7.0\n",
       " 7.0  7.0  7.0"
      ]
     },
     "metadata": {},
     "output_type": "display_data"
    }
   ],
   "source": [
    "# N-Dimensional Array\n",
    "# Initialized with Some Value\n",
    "fill(7.0, (2, 3, 2))"
   ]
  },
  {
   "cell_type": "code",
   "execution_count": 88,
   "metadata": {},
   "outputs": [
    {
     "data": {
      "text/plain": [
       "true"
      ]
     },
     "metadata": {},
     "output_type": "display_data"
    }
   ],
   "source": [
    "#N-Dimensional Array\n",
    "#Empty \n",
    "empty_array_1 = Float32[]  \n",
    "            #or\n",
    "empty_array_2 = Array{Float32}([])\n",
    "\n",
    "#Both do the same thing\n",
    "typeof(empty_array_1) == typeof(empty_array_2)"
   ]
  },
  {
   "cell_type": "code",
   "execution_count": 128,
   "metadata": {},
   "outputs": [
    {
     "data": {
      "text/plain": [
       "2-element Vector{Array}:\n",
       " [1, 2, 3]\n",
       " [2, 3, 4, 5]"
      ]
     },
     "metadata": {},
     "output_type": "display_data"
    }
   ],
   "source": [
    "#N-Dimensional Array\n",
    "#Using known contents\n",
    "Array[1:3, 2:5]"
   ]
  },
  {
   "cell_type": "code",
   "execution_count": null,
   "metadata": {},
   "outputs": [],
   "source": []
  }
 ],
 "metadata": {
  "kernelspec": {
   "display_name": "Julia 1.8.0",
   "language": "julia",
   "name": "julia-1.8"
  },
  "language_info": {
   "file_extension": ".jl",
   "mimetype": "application/julia",
   "name": "julia",
   "version": "1.8.0"
  },
  "orig_nbformat": 4
 },
 "nbformat": 4,
 "nbformat_minor": 2
}

{
 "cells": [
  {
   "cell_type": "code",
   "execution_count": 1,
   "metadata": {},
   "outputs": [],
   "source": [
    "from typing import Literal, Optional, Iterable\n",
    "from collections import deque"
   ]
  },
  {
   "cell_type": "code",
   "execution_count": 2,
   "metadata": {},
   "outputs": [],
   "source": [
    "class Node:\n",
    "    def __init__(self, value: str | int) -> None:\n",
    "        self.value = value\n",
    "        self.left = None \n",
    "        self.right = None "
   ]
  },
  {
   "cell_type": "code",
   "execution_count": 27,
   "metadata": {},
   "outputs": [],
   "source": [
    "class Tree:\n",
    "    def __init__(self, value: str | int) -> None:\n",
    "        self.root = Node(value) \n",
    "    \n",
    "    def inorder(self):\n",
    "        print(\"Inorder: \", end = \"\")\n",
    "        visited: dict[Node, bool] = dict()\n",
    "        stack = deque([self.root])\n",
    "        while(stack):\n",
    "            node = stack.pop()\n",
    "            if visited.get(node):\n",
    "                print(node.value, end = \" \")\n",
    "            else:\n",
    "                stack.append(node.right) if node.right is not None else None\n",
    "                visited[node] = True\n",
    "                stack.append(node)\n",
    "                stack.append(node.left) if node.left is not None else None\n",
    "    \n",
    "    def preorder(self):\n",
    "        print(\"Preorder: \", end = \"\")\n",
    "        stack = deque([self.root])\n",
    "        while(stack):\n",
    "            node = stack.pop()\n",
    "            print(node.value, end = \" \")\n",
    "            stack.append(node.right) if node.right is not None else None\n",
    "            stack.append(node.left) if node.left is not None else None\n",
    "    \n",
    "    def postorder(self):\n",
    "        print(\"Postorder: \", end = \"\")\n",
    "        visited: dict[Node, int] = dict()\n",
    "        stack = deque([self.root])\n",
    "        while(stack):\n",
    "            node = stack.pop()\n",
    "            if visited.get(node) == 1:\n",
    "                print(node.value, end = \" \")\n",
    "            else:\n",
    "                if visited.get(node) is None:\n",
    "                    visited[node] = 0\n",
    "                visited[node] += 1\n",
    "                stack.append(node)\n",
    "                stack.append(node.right) if node.right is not None else None\n",
    "                stack.append(node.left) if node.left is not None else None"
   ]
  },
  {
   "cell_type": "code",
   "execution_count": 28,
   "metadata": {},
   "outputs": [
    {
     "name": "stdout",
     "output_type": "stream",
     "text": [
      "Inorder: A B C D E F G H I \n",
      "\n",
      "Preorder: F B A D C E G I H \n",
      "\n",
      "Postorder: A C E D B H I G F "
     ]
    }
   ],
   "source": [
    "# type: ignore\n",
    "\n",
    "#         F\n",
    "#       /   \\\n",
    "#      B     G\n",
    "#     / \\     \\\n",
    "#    A   D     I\n",
    "#       / \\   /\n",
    "#      C   E  H\n",
    "\n",
    "tree = Tree(\"F\")\n",
    "tree.root.left = Node(\"B\")\n",
    "tree.root.left.left = Node(\"A\")\n",
    "tree.root.left.right = Node(\"D\")\n",
    "tree.root.left.right.left = Node(\"C\")\n",
    "tree.root.left.right.right = Node(\"E\")\n",
    "\n",
    "tree.root.right = Node(\"G\")\n",
    "tree.root.right.right = Node(\"I\")\n",
    "tree.root.right.right.left = Node(\"H\")\n",
    "\n",
    "tree.inorder()\n",
    "print(\"\\n\")\n",
    "tree.preorder()\n",
    "print(\"\\n\")\n",
    "tree.postorder()"
   ]
  }
 ],
 "metadata": {
  "kernelspec": {
   "display_name": "dev",
   "language": "python",
   "name": "python3"
  },
  "language_info": {
   "codemirror_mode": {
    "name": "ipython",
    "version": 3
   },
   "file_extension": ".py",
   "mimetype": "text/x-python",
   "name": "python",
   "nbconvert_exporter": "python",
   "pygments_lexer": "ipython3",
   "version": "3.1.0"
  }
 },
 "nbformat": 4,
 "nbformat_minor": 2
}

{
  "cells": [
    {
      "cell_type": "code",
      "execution_count": 1,
      "metadata": {
        "colab": {
          "base_uri": "https://localhost:8080/"
        },
        "id": "-N4jhknCPhAc",
        "outputId": "a8c9fef5-bf13-44ea-8e36-1b64ae926d72"
      },
      "outputs": [
        {
          "name": "stdout",
          "output_type": "stream",
          "text": [
            "PyTorch built with:\n",
            "  - C++ Version: 199711\n",
            "  - MSVC 192829337\n",
            "  - Intel(R) Math Kernel Library Version 2020.0.2 Product Build 20200624 for Intel(R) 64 architecture applications\n",
            "  - Intel(R) MKL-DNN v2.6.0 (Git Hash 52b5f107dd9cf10910aaa19cb47f3abf9b349815)\n",
            "  - OpenMP 2019\n",
            "  - LAPACK is enabled (usually provided by MKL)\n",
            "  - CPU capability usage: AVX2\n",
            "  - CUDA Runtime 11.7\n",
            "  - NVCC architecture flags: -gencode;arch=compute_37,code=sm_37;-gencode;arch=compute_50,code=sm_50;-gencode;arch=compute_60,code=sm_60;-gencode;arch=compute_61,code=sm_61;-gencode;arch=compute_70,code=sm_70;-gencode;arch=compute_75,code=sm_75;-gencode;arch=compute_80,code=sm_80;-gencode;arch=compute_86,code=sm_86;-gencode;arch=compute_37,code=compute_37\n",
            "  - CuDNN 8.5\n",
            "  - Magma 2.5.4\n",
            "  - Build settings: BLAS_INFO=mkl, BUILD_TYPE=Release, CUDA_VERSION=11.7, CUDNN_VERSION=8.5.0, CXX_COMPILER=C:/cb/pytorch_1000000000000/work/tmp_bin/sccache-cl.exe, CXX_FLAGS=/DWIN32 /D_WINDOWS /GR /EHsc /w /bigobj -DUSE_PTHREADPOOL -openmp:experimental -IC:/cb/pytorch_1000000000000/work/mkl/include -DNDEBUG -DUSE_KINETO -DLIBKINETO_NOCUPTI -DUSE_FBGEMM -DUSE_XNNPACK -DSYMBOLICATE_MOBILE_DEBUG_HANDLE -DEDGE_PROFILER_USE_KINETO, LAPACK_INFO=mkl, PERF_WITH_AVX=1, PERF_WITH_AVX2=1, PERF_WITH_AVX512=1, TORCH_VERSION=1.13.1, USE_CUDA=ON, USE_CUDNN=ON, USE_EXCEPTION_PTR=1, USE_GFLAGS=OFF, USE_GLOG=OFF, USE_MKL=ON, USE_MKLDNN=ON, USE_MPI=OFF, USE_NCCL=OFF, USE_NNPACK=OFF, USE_OPENMP=ON, USE_ROCM=OFF, \n",
            "\n"
          ]
        }
      ],
      "source": [
        "import torch\n",
        "import math\n",
        "print(torch.__config__.show())"
      ]
    },
    {
      "cell_type": "code",
      "execution_count": 2,
      "metadata": {
        "id": "d_d4NcHqWbha"
      },
      "outputs": [],
      "source": [
        "DEVICE = 'cuda' if torch.cuda.is_available() else 'cpu'"
      ]
    },
    {
      "cell_type": "markdown",
      "metadata": {
        "id": "M26jE5vaPhAe"
      },
      "source": [
        "### Constructors"
      ]
    },
    {
      "cell_type": "markdown",
      "metadata": {
        "id": "jqxhpozdPhAg"
      },
      "source": [
        "#### Basic Tensors"
      ]
    },
    {
      "cell_type": "code",
      "execution_count": 3,
      "metadata": {
        "colab": {
          "base_uri": "https://localhost:8080/"
        },
        "id": "ypZlpMW5PhAh",
        "outputId": "526c2ff9-2774-4b24-ce1a-61ea8f2b330d"
      },
      "outputs": [
        {
          "name": "stdout",
          "output_type": "stream",
          "text": [
            "Uninitialized Tensor\n",
            "tensor([[0., 0., 0.],\n",
            "        [0., 0., 0.]])\n",
            "\n",
            "Zeros Tensor\n",
            "tensor([[0., 0., 0.],\n",
            "        [0., 0., 0.]])\n",
            "\n",
            "Ones Tensor\n",
            "tensor([[1., 1., 1.],\n",
            "        [1., 1., 1.]])\n",
            "\n",
            "Identity Matrix\n",
            "tensor([[1., 0., 0.],\n",
            "        [0., 1., 0.],\n",
            "        [0., 0., 1.]])\n",
            "\n",
            "Filled Tensor\n",
            "tensor([[3.1416, 3.1416, 3.1416],\n",
            "        [3.1416, 3.1416, 3.1416]])\n",
            "\n"
          ]
        }
      ],
      "source": [
        "shape = (2, 3)\n",
        "\n",
        "print(\"Uninitialized Tensor\")\n",
        "print(torch.empty(shape))\n",
        "print()\n",
        "\n",
        "print(\"Zeros Tensor\")\n",
        "print(torch.zeros(shape))\n",
        "print()\n",
        "\n",
        "print(\"Ones Tensor\")\n",
        "print(torch.ones(shape))\n",
        "print()\n",
        "\n",
        "print(\"Identity Matrix\")\n",
        "print(torch.eye(shape[1]))\n",
        "print()\n",
        "\n",
        "print(\"Filled Tensor\")\n",
        "print(torch.full(shape, math.pi))\n",
        "print()"
      ]
    },
    {
      "cell_type": "markdown",
      "metadata": {
        "id": "sv1euIrCPhAj"
      },
      "source": [
        "#### 1D Range Based Tensors"
      ]
    },
    {
      "cell_type": "code",
      "execution_count": 4,
      "metadata": {
        "colab": {
          "base_uri": "https://localhost:8080/"
        },
        "id": "Pyqqyx-9PhAk",
        "outputId": "5d4b69b1-4163-440d-9912-1f9a9cb87004"
      },
      "outputs": [
        {
          "name": "stdout",
          "output_type": "stream",
          "text": [
            "Range Based\n",
            "tensor([ 5, 10, 15, 20, 25])\n",
            "tensor([ 0.0000,  2.5000,  5.0000,  7.5000, 10.0000])\n",
            "\n",
            "n-Values in Interval\n",
            "tensor([ 0.0000,  6.2500, 12.5000, 18.7500, 25.0000])\n",
            "tensor([-10.0000,  -7.7778,  -5.5556,  -3.3333,  -1.1111,   1.1111,   3.3333,\n",
            "          5.5556,   7.7778,  10.0000])\n"
          ]
        }
      ],
      "source": [
        "print(\"Range Based\")\n",
        "#[Start, End), Step\n",
        "print(torch.arange(5, 26, 5))\n",
        "print(torch.arange(0, 11, 2.5))\n",
        "print()\n",
        "\n",
        "print(\"n-Values in Interval\")\n",
        "\n",
        "#Creates a one-dimensional tensor of size Steps whose values are evenly spaced from [Start, End]\n",
        "print(torch.linspace(0, 25, 5))\n",
        "print(torch.linspace(start = -10, end = 10, steps = 10))"
      ]
    },
    {
      "cell_type": "markdown",
      "metadata": {
        "id": "mQ7M0p4FPhAl"
      },
      "source": [
        "#### Dealing with Random Generators"
      ]
    },
    {
      "cell_type": "code",
      "execution_count": 13,
      "metadata": {
        "colab": {
          "base_uri": "https://localhost:8080/"
        },
        "id": "fhLnDA9WQ2qT",
        "outputId": "5a196639-a2a1-4a25-873b-f045039f200a"
      },
      "outputs": [
        {
          "name": "stdout",
          "output_type": "stream",
          "text": [
            "tensor([0.4649], device='cuda:0')\n",
            "tensor([0.6382], device='cuda:0')\n",
            "tensor([0.5321], device='cuda:0')\n",
            "tensor([0.5321], device='cuda:0')\n"
          ]
        }
      ],
      "source": [
        "#Create a custom Random Number Generator\n",
        "rng = torch.Generator(device = DEVICE)\n",
        "#Manually Seed the Generator\n",
        "rng.manual_seed(271828)\n",
        "\n",
        "\n",
        "print(torch.rand(1, generator = rng, device = DEVICE))\n",
        "print(torch.rand(1, generator = rng, device = DEVICE))\n",
        "\n",
        "#Create a new generator with the same state as the previous RNG \n",
        "new_rng = torch.Generator(device = DEVICE)\n",
        "new_rng.set_state(rng.get_state())\n",
        "\n",
        "#Both will have the same result\n",
        "print(torch.rand(1, generator = new_rng, device = DEVICE))\n",
        "print(torch.rand(1, generator = rng, device = DEVICE))"
      ]
    },
    {
      "cell_type": "code",
      "execution_count": null,
      "metadata": {
        "colab": {
          "base_uri": "https://localhost:8080/"
        },
        "id": "Sk0llShKPhAl",
        "outputId": "999c27aa-f872-4863-9708-ae9d94912432"
      },
      "outputs": [
        {
          "name": "stdout",
          "output_type": "stream",
          "text": [
            "<torch._C.Generator object at 0x00000201D8D32890>\n",
            "tensor([[0.3478, 0.7848, 0.6988],\n",
            "        [0.4897, 0.7965, 0.9054]])\n"
          ]
        }
      ],
      "source": [
        "#Seed the Global Random Number Generator\n",
        "\n",
        "#print(torch.defualt_generator.manual_seed(271828))\n",
        "print(torch.manual_seed(271828))\n",
        "print(torch.rand(shape))"
      ]
    },
    {
      "cell_type": "markdown",
      "metadata": {
        "id": "pr-lhoHZj1KH"
      },
      "source": [
        "#### Random Sampling"
      ]
    },
    {
      "cell_type": "code",
      "execution_count": null,
      "metadata": {
        "colab": {
          "base_uri": "https://localhost:8080/"
        },
        "id": "kKbO1iSYj526",
        "outputId": "bdb37440-14a3-49d6-852b-cf6abdf154f4"
      },
      "outputs": [
        {
          "name": "stdout",
          "output_type": "stream",
          "text": [
            "tensor([[0.5621, 0.0730, 0.6361],\n",
            "        [0.6597, 0.8087, 0.4713]])\n",
            "tensor([[ 0.4476,  2.4351, -1.0493],\n",
            "        [ 1.6843, -1.2536, -0.4992]])\n"
          ]
        }
      ],
      "source": [
        "#From Uniform Distribution on [0, 1)\n",
        "print(torch.rand(shape))\n",
        "\n",
        "# From Standard Normal Distribution\n",
        "print(torch.randn(shape))"
      ]
    },
    {
      "cell_type": "markdown",
      "metadata": {
        "id": "ZcmKQ6koPhAn"
      },
      "source": [
        "#### Interoperability with Numpy"
      ]
    },
    {
      "cell_type": "markdown",
      "metadata": {
        "id": "iKXhmGcnbVDv"
      },
      "source": [
        "The contents for the new object uses the same underlying memory as the source object, thus changes to the source data are reflected in the converted object as well."
      ]
    },
    {
      "cell_type": "code",
      "execution_count": null,
      "metadata": {
        "colab": {
          "base_uri": "https://localhost:8080/"
        },
        "id": "eRoe7HM8PhAo",
        "outputId": "6f048cbb-8834-4884-ca71-f11014d097f7"
      },
      "outputs": [
        {
          "name": "stdout",
          "output_type": "stream",
          "text": [
            "tensor([ 2,  4,  6,  8, 10], dtype=torch.int32)\n",
            "tensor([13,  4,  6,  8, 10], dtype=torch.int32)\n",
            "ndarray([ 2  4  6  8 10])\n",
            "ndarray([13  4  6  8 10])\n"
          ]
        }
      ],
      "source": [
        "import numpy as np\n",
        "ndarray = np.arange(2, 11, 2)\n",
        "\n",
        "#Create a tensor, with the same data as a numpy ndarray\n",
        "tensor = torch.from_numpy(ndarray)\n",
        "print(tensor)\n",
        "ndarray[0] = 13\n",
        "print(tensor)\n",
        "\n",
        "#Vice-Versa\n",
        "tensor = torch.arange(2, 11, 2)\n",
        "ndarray = tensor.numpy()\n",
        "print(f\"ndarray({ndarray})\")\n",
        "tensor[0] = 13\n",
        "print(f\"ndarray({ndarray})\")"
      ]
    },
    {
      "cell_type": "markdown",
      "metadata": {
        "id": "VuJ9v3rHPhAp"
      },
      "source": [
        "#### Interoperability with Python Objects"
      ]
    },
    {
      "cell_type": "code",
      "execution_count": null,
      "metadata": {
        "colab": {
          "base_uri": "https://localhost:8080/"
        },
        "id": "fPmlfrM9PhAq",
        "outputId": "44ad68de-9b9e-467b-9614-f4970ccbb6d7"
      },
      "outputs": [
        {
          "name": "stdout",
          "output_type": "stream",
          "text": [
            "Tensor from a python sequence\n",
            "tensor([[ 1,  2,  3,  4],\n",
            "        [ 5,  6,  7,  8],\n",
            "        [ 9, 10, 11, 12]])\n"
          ]
        }
      ],
      "source": [
        "print(\"Tensor from a python sequence\")\n",
        "print(torch.tensor([[1, 2, 3, 4],\n",
        "                    [5, 6, 7, 8],\n",
        "                    [9, 10, 11, 12]]))"
      ]
    },
    {
      "cell_type": "markdown",
      "metadata": {
        "id": "FdezRHAob7ly"
      },
      "source": [
        "### Attributes"
      ]
    },
    {
      "cell_type": "code",
      "execution_count": null,
      "metadata": {
        "id": "G6uCfswmb9xI"
      },
      "outputs": [],
      "source": []
    },
    {
      "cell_type": "markdown",
      "metadata": {
        "id": "KsgX6sFSfG10"
      },
      "source": [
        "### Operations"
      ]
    },
    {
      "cell_type": "markdown",
      "metadata": {
        "id": "miDsrayHk4bF"
      },
      "source": [
        "### Views"
      ]
    },
    {
      "cell_type": "markdown",
      "metadata": {
        "id": "qe0J52eOfNQf"
      },
      "source": [
        "### Arithmetic"
      ]
    }
  ],
  "metadata": {
    "colab": {
      "provenance": []
    },
    "kernelspec": {
      "display_name": "base",
      "language": "python",
      "name": "python3"
    },
    "language_info": {
      "codemirror_mode": {
        "name": "ipython",
        "version": 3
      },
      "file_extension": ".py",
      "mimetype": "text/x-python",
      "name": "python",
      "nbconvert_exporter": "python",
      "pygments_lexer": "ipython3",
      "version": "3.9.16"
    },
    "orig_nbformat": 4,
    "vscode": {
      "interpreter": {
        "hash": "67bfac4f4aefe1c16f1836a62d55b6e6baa7aba1ac5ce70e93ee8e90eb4f073a"
      }
    }
  },
  "nbformat": 4,
  "nbformat_minor": 0
}

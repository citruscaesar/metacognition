{
 "cells": [
  {
   "cell_type": "code",
   "execution_count": 1,
   "metadata": {},
   "outputs": [],
   "source": [
    "import shutil\n",
    "from pathlib import Path\n",
    "import numpy as np\n",
    "import pandas as pd\n",
    "import matplotlib.pyplot as plt\n",
    "import imageio.v3 as iio\n",
    "\n",
    "from sklearn.preprocessing import LabelEncoder\n",
    "from streaming import StreamingDataset, MDSWriter\n",
    "\n",
    "from streaming.base.util import clean_stale_shared_memory\n",
    "\n",
    "from tqdm import tqdm\n",
    "from typing import Callable, Any\n",
    "\n",
    "from dotenv import load_dotenv\n",
    "load_dotenv();"
   ]
  },
  {
   "cell_type": "code",
   "execution_count": 2,
   "metadata": {},
   "outputs": [],
   "source": [
    "IMAGENETTE = Path.home() / \"datasets\" / \"imagenette\"\n",
    "TRAIN_DIR = IMAGENETTE / \"train\"\n",
    "VAL_DIR = IMAGENETTE / \"val\"\n",
    "SHARDS = IMAGENETTE / \"shards\""
   ]
  },
  {
   "cell_type": "code",
   "execution_count": 13,
   "metadata": {},
   "outputs": [],
   "source": [
    "def prepare_labels(path_to_noisy_labels: Path | None = None, path_to_labels_csv: Path | None = None) -> pd.DataFrame:\n",
    "    if path_to_labels_csv:\n",
    "        return pd.read_csv(path_to_labels_csv, index_col=0)\n",
    "\n",
    "    assert (path_to_noisy_labels is Path) and path_to_noisy_labels.is_file(), \"bruh?\"\n",
    "    df = pd.read_csv(path_to_noisy_labels)\n",
    "    df[\"path\"] = df[\"path\"].apply(lambda x: IMAGENETTE/x)\n",
    "    df = df[[\"path\", \"noisy_labels_0\", \"is_valid\"]]\n",
    "    df.columns = [\"path\", \"label\", \"is_valid\"]\n",
    "    return df \n",
    "\n",
    "def prepare_splits(df: pd.DataFrame, is_valid: bool) -> pd.DataFrame:\n",
    "    df = df[df[\"is_valid\"] == is_valid]\n",
    "    df = df.drop(columns = \"is_valid\")\n",
    "    df = df.reset_index(drop = True)\n",
    "    return df"
   ]
  },
  {
   "cell_type": "code",
   "execution_count": 21,
   "metadata": {},
   "outputs": [],
   "source": [
    "def label_from_path(path: Path) -> str:\n",
    "    return path.parent.stem\n",
    "\n",
    "def reset_dir(dir_path: Path) -> None:\n",
    "    if dir_path.is_dir():\n",
    "        shutil.rmtree(dir_path)\n",
    "    dir_path.mkdir(parents = True, exist_ok = True)\n",
    "\n",
    "labels = prepare_labels(IMAGENETTE/\"noisy_imagenette.csv\")\n",
    "val = prepare_splits(labels, True)\n",
    "train = prepare_splits(labels, False)\n",
    "\n",
    "class_names = sorted(labels.label.unique())\n",
    "label_encoder = LabelEncoder().fit(class_names)"
   ]
  },
  {
   "cell_type": "code",
   "execution_count": 27,
   "metadata": {},
   "outputs": [
    {
     "name": "stderr",
     "output_type": "stream",
     "text": [
      "100%|██████████| 3925/3925 [00:15<00:00, 245.79it/s]\n"
     ]
    }
   ],
   "source": [
    "df = val \n",
    "local_shards = SHARDS / \"val\"\n",
    "\n",
    "dtypes = {\"image\": \"bytes\", \"label\": \"int\"}\n",
    "reset_dir(local_shards)\n",
    "with MDSWriter(out = local_shards.as_posix(), columns = dtypes) as out: \n",
    "    for idx, example in tqdm(df.iterrows(), total=len(df)):\n",
    "        try:\n",
    "            image = iio.imread(example.path, extension=\".jpg\")\n",
    "            image_bytes = iio.imwrite(\"<bytes>\", image, extension=\".jpg\")\n",
    "        except:\n",
    "            print(idx)\n",
    "\n",
    "        label = example.label \n",
    "        label_int = int(label_encoder.transform([label])[0]) #type: ignore\n",
    "\n",
    "        sample = {\n",
    "            \"image\": image_bytes,\n",
    "            \"label\": label_int\n",
    "        }\n",
    "        out.write(sample)"
   ]
  },
  {
   "cell_type": "code",
   "execution_count": null,
   "metadata": {},
   "outputs": [],
   "source": []
  }
 ],
 "metadata": {
  "kernelspec": {
   "display_name": "dev",
   "language": "python",
   "name": "python3"
  },
  "language_info": {
   "codemirror_mode": {
    "name": "ipython",
    "version": 3
   },
   "file_extension": ".py",
   "mimetype": "text/x-python",
   "name": "python",
   "nbconvert_exporter": "python",
   "pygments_lexer": "ipython3",
   "version": "3.11.5"
  },
  "orig_nbformat": 4
 },
 "nbformat": 4,
 "nbformat_minor": 2
}

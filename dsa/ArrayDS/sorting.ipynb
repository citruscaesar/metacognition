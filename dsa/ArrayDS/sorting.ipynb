{
 "cells": [
  {
   "cell_type": "code",
   "execution_count": 2,
   "metadata": {},
   "outputs": [],
   "source": [
    "from typing import Iterable, Callable"
   ]
  },
  {
   "cell_type": "code",
   "execution_count": 3,
   "metadata": {},
   "outputs": [],
   "source": [
    "class StaticArray:\n",
    "    def __init__(self, *args):\n",
    "        self.static_array = list()\n",
    "        self.length = 0\n",
    "        for element in args:\n",
    "            self.static_array.append(element)\n",
    "            self.length += 1\n",
    "    \n",
    "    def __len__(self):\n",
    "        return self.length\n",
    "    \n",
    "    def __setitem__(self, idx, val):\n",
    "        self.static_array[idx] = val\n",
    "    \n",
    "    def __getitem__(self, idx):\n",
    "        return self.static_array[idx]\n",
    "    \n",
    "    def __iter__(self):\n",
    "        return iter(self.static_array)\n",
    "    \n",
    "    def __str__(self):\n",
    "        return self.static_array.__str__()\n",
    "    \n",
    "    def __repr__(self):\n",
    "        return self.static_array.__repr__()"
   ]
  },
  {
   "cell_type": "code",
   "execution_count": 4,
   "metadata": {},
   "outputs": [],
   "source": [
    "class SelectionSort:\n",
    "    def __init__(self, array: StaticArray, compare: Callable) -> None:\n",
    "        self.array = array\n",
    "        self.compare = compare\n",
    "        self.__sort()\n",
    "    \n",
    "    def __repr__(self):\n",
    "        return str() \n",
    "\n",
    "    def __swap_elements_by_idx(self, i: int, j: int) -> None:\n",
    "        self.array[i], self.array[j] = self.array[j], self.array[i]\n",
    "    \n",
    "    def __get_comp_idx(self, begin_idx: int, end_idx:int) -> int:\n",
    "        comp_idx = begin_idx\n",
    "        comp_val = self.array[begin_idx]\n",
    "        for idx in range(begin_idx+1, end_idx):\n",
    "            if self.compare(self.array[idx], comp_val):\n",
    "                comp_val = self.array[idx]\n",
    "                comp_idx = idx\n",
    "        return comp_idx\n",
    "\n",
    "    def __sort(self) -> None:\n",
    "        end_idx = len(self.array)\n",
    "        for idx in range(0, end_idx):\n",
    "            comp_idx = self.__get_comp_idx(idx, end_idx)\n",
    "            if comp_idx != idx: \n",
    "                self.__swap_elements_by_idx(comp_idx, idx)"
   ]
  },
  {
   "cell_type": "code",
   "execution_count": 64,
   "metadata": {},
   "outputs": [],
   "source": [
    "class BubbleSort:\n",
    "    def __init__(self, array: StaticArray, compare: Callable, verbose: bool = False) -> None:\n",
    "        self.array = array\n",
    "        self.compare = compare\n",
    "        self.verbose = verbose\n",
    "        self.__sort()\n",
    "    \n",
    "    def __repr__(self):\n",
    "        return str() \n",
    "\n",
    "    def __swap_elements_by_idx(self, i: int, j: int) -> None:\n",
    "        self.array[i], self.array[j] = self.array[j], self.array[i]\n",
    "\n",
    "    def __sort(self):\n",
    "        _total_swaps: int = 0\n",
    "        _total_iterations: int = 0\n",
    "        _total_comparisions: int = 0\n",
    "\n",
    "        not self.verbose or print(self.array)\n",
    "\n",
    "        for end_idx in range(len(self.array), 0, -1):\n",
    "            swapped: bool = False\n",
    "\n",
    "            for idx in range(1, end_idx):\n",
    "                _total_comparisions += 1\n",
    "                if not self.compare(self.array[idx-1], self.array[idx]):\n",
    "                    self.__swap_elements_by_idx(idx-1, idx)\n",
    "                    _total_swaps += 1 \n",
    "                    swapped = True\n",
    "                    not self.verbose or print(self.array)\n",
    "\n",
    "            if not swapped:\n",
    "                break\n",
    "\n",
    "            _total_iterations += 1\n",
    "\n",
    "        not self.verbose or print(f\"Total Swaps: {_total_swaps}\")\n",
    "        not self.verbose or print(f\"Total Comparisions: {_total_comparisions}\")\n",
    "        not self.verbose or print(f\"Total Iterations: {_total_iterations}\")"
   ]
  },
  {
   "cell_type": "code",
   "execution_count": 65,
   "metadata": {},
   "outputs": [],
   "source": [
    "class InsertionSort:\n",
    "    def __init__(self, array: StaticArray, compare: Callable) -> None:\n",
    "        self.array = array\n",
    "        self.compare = compare\n",
    "        self.__sort()\n",
    "    \n",
    "    def __repr__(self):\n",
    "        return str() \n",
    "\n",
    "    def __find_insert_idx(self, end_idx, val):\n",
    "        for idx in range(0, end_idx):\n",
    "            if not self.compare(self.array[idx], val):\n",
    "                return idx\n",
    "    \n",
    "    def __insert_at_idx(self, idx, val):\n",
    "        self.array.static_array.insert(idx, val)\n",
    "        print(self.array)\n",
    "\n",
    "    def __sort(self):\n",
    "        for idx in range(1, len(self.array)):\n",
    "            prev_val  = self.array[idx-1]\n",
    "            val = self.array[idx]\n",
    "            if not self.compare(prev_val, val):\n",
    "                insert_idx = self.__find_insert_idx(idx, val)\n",
    "\n",
    "                print(f\"Array: {self.array}\")\n",
    "                print(f\"Insert: {val} at index: {insert_idx}\")\n",
    "\n",
    "                self.__insert_at_idx(insert_idx, val)\n",
    "                break"
   ]
  },
  {
   "cell_type": "code",
   "execution_count": 66,
   "metadata": {},
   "outputs": [],
   "source": [
    "class MergeSort:\n",
    "    def __init__(self, array: StaticArray, compare: Callable) -> None:\n",
    "        self.array = array\n",
    "        self.compare = compare\n",
    "        self.__sort()\n",
    "    \n",
    "    def __repr__(self) -> str:\n",
    "        return str() \n",
    "\n",
    "    def __sort(self) -> None:\n",
    "        pass "
   ]
  },
  {
   "cell_type": "code",
   "execution_count": 69,
   "metadata": {},
   "outputs": [
    {
     "name": "stdout",
     "output_type": "stream",
     "text": [
      "[6, 5, 4, 3, 2, 1]\n",
      "[5, 6, 4, 3, 2, 1]\n",
      "[5, 4, 6, 3, 2, 1]\n",
      "[5, 4, 3, 6, 2, 1]\n",
      "[5, 4, 3, 2, 6, 1]\n",
      "[5, 4, 3, 2, 1, 6]\n",
      "[4, 5, 3, 2, 1, 6]\n",
      "[4, 3, 5, 2, 1, 6]\n",
      "[4, 3, 2, 5, 1, 6]\n",
      "[4, 3, 2, 1, 5, 6]\n",
      "[3, 4, 2, 1, 5, 6]\n",
      "[3, 2, 4, 1, 5, 6]\n",
      "[3, 2, 1, 4, 5, 6]\n",
      "[2, 3, 1, 4, 5, 6]\n",
      "[2, 1, 3, 4, 5, 6]\n",
      "[1, 2, 3, 4, 5, 6]\n",
      "Total Swaps: 15\n",
      "Total Comparisions: 15\n",
      "Total Iterations: 5\n"
     ]
    },
    {
     "data": {
      "text/plain": []
     },
     "execution_count": 69,
     "metadata": {},
     "output_type": "execute_result"
    }
   ],
   "source": [
    "#ar = StaticArray(21, 74, 32, 89, 55, 64)\n",
    "ar = StaticArray(6, 5, 4, 3, 2, 1)\n",
    "BubbleSort(ar, lambda a,b: a<b, verbose = True)"
   ]
  }
 ],
 "metadata": {
  "kernelspec": {
   "display_name": "dev",
   "language": "python",
   "name": "python3"
  },
  "language_info": {
   "codemirror_mode": {
    "name": "ipython",
    "version": 3
   },
   "file_extension": ".py",
   "mimetype": "text/x-python",
   "name": "python",
   "nbconvert_exporter": "python",
   "pygments_lexer": "ipython3",
   "version": "3.1.0"
  }
 },
 "nbformat": 4,
 "nbformat_minor": 2
}

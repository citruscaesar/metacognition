{
 "cells": [
  {
   "cell_type": "code",
   "execution_count": 1,
   "metadata": {},
   "outputs": [],
   "source": [
    "%load_ext autoreload\n",
    "%load_ext dotenv\n",
    "%autoreload 2\n",
    "%dotenv"
   ]
  },
  {
   "cell_type": "code",
   "execution_count": 2,
   "metadata": {},
   "outputs": [],
   "source": [
    "from pathlib import Path\n",
    "import torch\n",
    "import torchvision.transforms.v2 as t\n",
    "from lightning import Trainer\n",
    "\n",
    "import sys; sys.path.append(\"../\") if \"../\" not in sys.path else None\n",
    "from datasets.datamodules import ImageDatasetDataModule \n",
    "from datasets.inria import InriaImageFolder, InriaHDF5 \n",
    "from training.tasks import ClassificationTask\n",
    "from training.callbacks import (\n",
    "    setup_logger, setup_wandb_logger, setup_checkpoint, eval_callback\n",
    ")\n",
    "from etl.pathfactory import PathFactory\n",
    "from etl.etl import reset_dir"
   ]
  },
  {
   "cell_type": "code",
   "execution_count": 3,
   "metadata": {},
   "outputs": [],
   "source": [
    "import os, logging\n",
    "\n",
    "from lightning.pytorch.utilities import disable_possible_user_warnings # type: ignore\n",
    "logging.getLogger(\"lightning.pytorch\").setLevel(logging.ERROR)\n",
    "disable_possible_user_warnings()\n",
    "\n",
    "os.environ[\"WANDB_CONSOLE\"] = \"off\"\n",
    "os.environ[\"WANDB_SILENT\"] = \"true\""
   ]
  },
  {
   "cell_type": "code",
   "execution_count": 4,
   "metadata": {},
   "outputs": [
    {
     "data": {
      "text/plain": [
       "\n",
       "        \n",
       "Local Dataset: urban_footprint @ [/home/sambhav/datasets/urban_footprint/tiled/inria.h5]\n",
       "Configured For: segmentation\n",
       "        \n",
       "Random Seed: 69\n",
       "Train: 70.0%\n",
       "Val: 10.0%\n",
       "Test: 20.0%\n",
       "Batch Size(//grad_accum): 2\n",
       "Tile Kernel: (500, 500), Stride: (500, 500)\n",
       "        "
      ]
     },
     "metadata": {},
     "output_type": "display_data"
    },
    {
     "name": "stdout",
     "output_type": "stream",
     "text": [
      "Local Logging To : /home/sambhav/experiments/urban_footprint_segmentation/hdf_speed_test\n",
      "WandB Logging To: /home/sambhav/experiments/urban_footprint_segmentation/hdf_speed_test/wandb\n",
      "Monitoring: val/iou, Checkpoints Saved To: /home/sambhav/experiments/urban_footprint_segmentation/hdf_speed_test/model_ckpts\n"
     ]
    },
    {
     "data": {
      "text/plain": [
       "PosixPath('/home/sambhav/experiments/urban_footprint_segmentation/hdf_speed_test')"
      ]
     },
     "execution_count": 4,
     "metadata": {},
     "output_type": "execute_result"
    }
   ],
   "source": [
    "DATASET = InriaHDF5 \n",
    "# MODEL = Unet\n",
    "experiment = {\n",
    "    \"name\": \"hdf_speed_test\",\n",
    "    \"model_name\": \"unet\",\n",
    "    \"model_params\": {\n",
    "        \"encoder\": \"resnet18\",\n",
    "        \"decoder\": \"deconvolution\",\n",
    "        \"weights\": \"imagenet\",\n",
    "    },\n",
    "\n",
    "    \"dataset_name\": DATASET.NAME,\n",
    "    \"task\": DATASET.TASK,\n",
    "    \"num_classes\": DATASET.NUM_CLASSES,\n",
    "    \"class_names\": DATASET.CLASS_NAMES,\n",
    "\n",
    "    \"random_seed\": 69,\n",
    "\n",
    "    \"test_split\": 0.2,\n",
    "    \"val_split\": 0.1,\n",
    "    \"batch_size\": 2,\n",
    "    \"grad_accum\": 1,\n",
    "    \"num_workers\": 4,\n",
    "\n",
    "    \"loss\": \"cross_entropy\",\n",
    "    \"loss_params\": {\n",
    "        \"reduction\": \"mean\",\n",
    "    },\n",
    "\n",
    "    \"optimizer\": \"adam\",\n",
    "    \"optimizer_params\": {\n",
    "        \"lr\": 1e-5,\n",
    "    },\n",
    "\n",
    "    \"monitor_metric\": \"iou\",\n",
    "    \"monitor_mode\": \"max\",\n",
    "\n",
    "    \"tile_size\": (500, 500),\n",
    "    \"tile_stride\": (500, 500),\n",
    "}\n",
    "PATHS = PathFactory(experiment[\"dataset_name\"], experiment[\"task\"])\n",
    "LOGS_DIR = PATHS.experiments_path / experiment[\"name\"]\n",
    "\n",
    "# NOTE: t.Normalize(DATASET.MEANS, DATASET.STD_DEVS),\n",
    "image_transform = t.Compose([t.ToImage(), t.ToDtype(torch.float32, scale=True)])\n",
    "mask_transform = t.Compose([t.ToImage(), t.ToDtype(torch.float32, scale=False)])\n",
    "#augmentations = t.Compose([t.Pad(6)])\n",
    "augmentations = None\n",
    "\n",
    "#import pandas as pd\n",
    "#train_df = DATASET.scene_df(**experiment)\n",
    "#train_df = train_df[train_df[\"split\"] == \"train\"]\n",
    "#eval_df = DATASET.tiled_df(**experiment)\n",
    "#eval_df = eval_df.drop(columns = \"tile_name\")\n",
    "#eval_df = eval_df[eval_df[\"split\"] != \"train\"]\n",
    "#dataset_df = pd.concat([train_df, eval_df], axis = 0)\n",
    "#dataset_df = dataset_df[dataset_df[\"split\"] != \"unsup\"]\n",
    "\n",
    "datamodule = ImageDatasetDataModule(\n",
    "    root = Path.home() / \"datasets\" / \"urban_footprint\" / \"tiled\" / \"inria.h5\",\n",
    "    is_remote = False,\n",
    "    is_streaming = False,\n",
    "    dataset_constructor = DATASET, \n",
    "#    dataframe = dataset_df,\n",
    "    image_transform = image_transform,\n",
    "    target_transform = mask_transform,\n",
    "    common_transform = augmentations,\n",
    "    **experiment\n",
    ")\n",
    "display(datamodule)\n",
    "logger = setup_logger(PATHS.experiments_path, experiment[\"name\"])\n",
    "wandb_logger = setup_wandb_logger(PATHS.experiments_path, experiment[\"name\"])\n",
    "checkpoint = setup_checkpoint(Path(logger.log_dir, \"model_ckpts\"), experiment[\"monitor_metric\"], experiment[\"monitor_mode\"], \"all\") \n",
    "reset_dir(LOGS_DIR)"
   ]
  },
  {
   "cell_type": "code",
   "execution_count": 5,
   "metadata": {},
   "outputs": [],
   "source": [
    "# Models\n",
    "\n",
    "#from torchvision.models import resnet18, ResNet18_Weights\n",
    "#model = resnet18(weights = ResNet18_Weights.DEFAULT)\n",
    "#model.fc = torch.nn.Linear(512, experiment[\"num_classes\"])\n",
    "\n",
    "#from torchvision.models import alexnet, AlexNet_Weights\n",
    "#model = alexnet(weights=AlexNet_Weights.DEFAULT)\n",
    "#model = alexnet(weights=None)\n",
    "#model.classifier[-1] = torch.nn.Linear(4096, experiment.get(\"num_classes\", 10))\n",
    "\n",
    "from segmentation_models_pytorch import Unet\n",
    "model = Unet(experiment[\"model_params\"][\"encoder\"], classes=experiment[\"num_classes\"]) "
   ]
  },
  {
   "cell_type": "code",
   "execution_count": 6,
   "metadata": {},
   "outputs": [],
   "source": [
    "BEST_CKPT = checkpoint.best_model_path \n",
    "LAST_CKPT = checkpoint.last_model_path\n",
    "evaluation = eval_callback(experiment[\"task\"])\n",
    "trainer = Trainer(\n",
    "    #callbacks=[checkpoint],\n",
    "    enable_checkpointing=False,\n",
    "    logger = [logger],\n",
    "    enable_model_summary=False,\n",
    "    #fast_dev_run=True,\n",
    "    num_sanity_val_steps=0,\n",
    "    max_epochs=1,\n",
    "    #check_val_every_n_epoch=5, \n",
    "    #limit_val_batches=100,\n",
    ")"
   ]
  },
  {
   "cell_type": "code",
   "execution_count": 7,
   "metadata": {},
   "outputs": [
    {
     "name": "stdout",
     "output_type": "stream",
     "text": [
      "Monitor Metric: iou\n",
      "train tiled dataset @ [/home/sambhav/datasets/urban_footprint/tiled/inria.h5]\n",
      "val tiled dataset @ [/home/sambhav/datasets/urban_footprint/tiled/inria.h5]\n"
     ]
    },
    {
     "data": {
      "application/vnd.jupyter.widget-view+json": {
       "model_id": "c8a3ecf1eb9c48988b99d796db4632cb",
       "version_major": 2,
       "version_minor": 0
      },
      "text/plain": [
       "Training: |          | 0/? [00:00<?, ?it/s]"
      ]
     },
     "metadata": {},
     "output_type": "display_data"
    }
   ],
   "source": [
    "\n",
    "#experiment[\"optimizer_params\"][\"lr\"] =  5e-6 \n",
    "trainer.fit(\n",
    "    model=ClassificationTask(model, **experiment),\n",
    "    datamodule=datamodule,\n",
    "    ckpt_path=LAST_CKPT if Path(LAST_CKPT).is_file() else None,\n",
    "    #verbose=False\n",
    ")\n",
    "\n",
    "#trainer.test(\n",
    "    #model=ClassificationTask(model, **experiment),\n",
    "    #datamodule=datamodule,\n",
    "    #ckpt_path=LAST_CKPT if Path(LAST_CKPT).is_file() else None,\n",
    "    #verbose = False\n",
    "#)"
   ]
  },
  {
   "cell_type": "code",
   "execution_count": null,
   "metadata": {},
   "outputs": [],
   "source": [
    "from training.evaluation import checkpoints_df, plot_checkpoints, plot_checkpoint_attribution\n",
    "plot_checkpoints(LOGS_DIR, experiment[\"monitor_metric\"], checkpoints_df(LOGS_DIR, experiment[\"monitor_metric\"]))"
   ]
  },
  {
   "cell_type": "code",
   "execution_count": null,
   "metadata": {},
   "outputs": [],
   "source": [
    "epoch = 11 \n",
    "step = 3024 \n",
    "split = \"best\"\n",
    "k = 25 \n",
    "plot_checkpoint_attribution(model, LOGS_DIR, PATHS.path, DATASET, epoch, step, split, k, **experiment)"
   ]
  }
 ],
 "metadata": {
  "kernelspec": {
   "display_name": "Python 3 (ipykernel)",
   "language": "python",
   "name": "python3"
  },
  "language_info": {
   "codemirror_mode": {
    "name": "ipython",
    "version": 3
   },
   "file_extension": ".py",
   "mimetype": "text/x-python",
   "name": "python",
   "nbconvert_exporter": "python",
   "pygments_lexer": "ipython3",
   "version": "3.10.13"
  }
 },
 "nbformat": 4,
 "nbformat_minor": 2
}

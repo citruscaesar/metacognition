{
 "cells": [
  {
   "cell_type": "code",
   "execution_count": 3,
   "metadata": {},
   "outputs": [],
   "source": [
    "import os\n",
    "from pathlib import Path\n",
    "import numpy as np\n",
    "import pandas as pd\n",
    "import imageio.v3 as iio\n",
    "import matplotlib.pyplot as plt\n",
    "\n",
    "from sklearn.preprocessing import LabelEncoder\n",
    "\n",
    "import torch\n",
    "import torchvision\n",
    "import torchdata.datapipes as dp\n",
    "import pytorch_lightning as pl\n",
    "\n",
    "from hyperparameters import Hyperparameters\n",
    "from tqdm import tqdm"
   ]
  },
  {
   "cell_type": "code",
   "execution_count": 3,
   "metadata": {},
   "outputs": [],
   "source": [
    "DATA_ROOT = Path.home() / \"datasets\"\n",
    "RESISC = DATA_ROOT / \"resisc-45\" \n",
    "IMAGENET = DATA_ROOT / \"tiny-imagenet\"\n",
    "CIFAR10 = DATA_ROOT / \"cifar10\"\n",
    "MLRSNET = DATA_ROOT / \"mlrs-net\""
   ]
  },
  {
   "cell_type": "code",
   "execution_count": 4,
   "metadata": {},
   "outputs": [],
   "source": [
    "#@dp.functional_datapipe(\"load_datapoint\")\n",
    "class DataPointLoader(dp.iter.IterDataPipe):\n",
    "    def __init__(self, source_datapipe, encoder) -> None:\n",
    "        self.source_datapipe = source_datapipe\n",
    "        self.encoder = encoder\n",
    "    \n",
    "    def __iter__(self):\n",
    "        for file_name, file_stream in self.source_datapipe:\n",
    "            yield (self._load_image(file_stream), \n",
    "                   self._encode_label(file_name))\n",
    "\n",
    "    def _load_image(self, image_path: Path) -> torch.Tensor:\n",
    "        return torch.from_numpy(\n",
    "            iio.imread(uri = image_path, \n",
    "                       plugin = \"pillow\", \n",
    "                       extension = \".jpg\")\n",
    "                .astype(np.float32)\n",
    "                .transpose(2, 0, 1))\n",
    "\n",
    "    def _encode_label(self, file_name) -> torch.Tensor:\n",
    "        return torch.from_numpy(\n",
    "            self.encoder.transform([file_name.split(\"/\")[-2]]))"
   ]
  },
  {
   "cell_type": "code",
   "execution_count": 6,
   "metadata": {},
   "outputs": [],
   "source": [
    "import s3fs"
   ]
  },
  {
   "cell_type": "code",
   "execution_count": 58,
   "metadata": {},
   "outputs": [
    {
     "data": {
      "text/plain": [
       "('s3://resisc-45/airplane/airplane_001.jpg',\n",
       " StreamWrapper<<File-like object S3FileSystem, resisc-45/airplane/airplane_001.jpg>>)"
      ]
     },
     "execution_count": 58,
     "metadata": {},
     "output_type": "execute_result"
    }
   ],
   "source": [
    "connection_kwargs = {\"endpoint_url\": \"https://usc1.contabostorage.com\"}\n",
    "pipe = (dp.iter.IterableWrapper([\"s3://resisc-45\"])\n",
    "               .list_files_by_fsspec(**connection_kwargs)\n",
    "               .list_files_by_fsspec(**connection_kwargs)\n",
    "               .open_files_by_fsspec(mode = 'rb', **connection_kwargs)\n",
    "               )\n",
    "pipe = DataPointLoader(pipe, le)\n",
    "next(iter(pipe))"
   ]
  },
  {
   "cell_type": "code",
   "execution_count": 49,
   "metadata": {},
   "outputs": [
    {
     "data": {
      "text/plain": [
       "31500"
      ]
     },
     "execution_count": 49,
     "metadata": {},
     "output_type": "execute_result"
    }
   ],
   "source": [
    "len(list(pipe))"
   ]
  },
  {
   "cell_type": "code",
   "execution_count": null,
   "metadata": {},
   "outputs": [],
   "source": [
    "#le = LabelEncoder().fit([x.name for x in RESISC.iterdir()])\n",
    "#pipe = dp.iter.FileLister(RESISC.as_posix(), recursive=True) \n",
    "#pipe = dp.iter.FileOpener(pipe, mode = 'b')\n",
    "#pipe = dp.utils.StreamWrapper(pipe)\n",
    "#pipe = DataPointLoader(pipe, le)\n",
    "#image, label = next(iter(pipe))"
   ]
  },
  {
   "cell_type": "code",
   "execution_count": null,
   "metadata": {},
   "outputs": [],
   "source": [
    "image_df = pd.DataFrame({\"image_path\": list((MLRSNET/\"Images\").rglob(\"*.jpg\"))})\n",
    "image_df[\"image\"] = image_df[\"image_path\"].apply(lambda x: x.name)\n",
    "image_df = image_df.set_index(\"image\")\n",
    "\n",
    "label_df = pd.concat([pd.read_csv(x) for x in (MLRSNET / \"Labels\").iterdir()])\n",
    "label_df = label_df.set_index(\"image\")\n",
    "\n",
    "assert len(label_df) == len(image_df), \"#images != #labels\"\n",
    "\n",
    "df = label_df.join(image_df, sort = True)"
   ]
  },
  {
   "cell_type": "code",
   "execution_count": null,
   "metadata": {},
   "outputs": [],
   "source": [
    "## How to split train and test\n",
    "# Equal test samples (500?) from each class or proportional?\n",
    "# Instinct says equal\n",
    "label_df.sum(axis = 0).sort_values()"
   ]
  },
  {
   "cell_type": "code",
   "execution_count": null,
   "metadata": {},
   "outputs": [],
   "source": [
    "label_df.sum(axis = 0).plot(kind = \"bar\", rot=90, figsize=(10, 10))"
   ]
  },
  {
   "cell_type": "code",
   "execution_count": null,
   "metadata": {},
   "outputs": [],
   "source": [
    "image_dp = dp.iter.IterableWrapper(df[\"image_path\"])\n",
    "label_dp = dp.iter.IterableWrapper(df.iloc[:, :-1].values)"
   ]
  },
  {
   "cell_type": "code",
   "execution_count": null,
   "metadata": {},
   "outputs": [],
   "source": [
    "next(iter(label_dp))"
   ]
  },
  {
   "cell_type": "code",
   "execution_count": null,
   "metadata": {},
   "outputs": [],
   "source": [
    "def viz_batch(batch: tuple[torch.Tensor, torch.Tensor], le: LabelEncoder) -> None:\n",
    "    images, targets = batch\n",
    "    labels = le.inverse_transform(targets)\n",
    "    assert images.shape[0] == targets.shape[0], \"#images != #targets\"\n",
    "\n",
    "    subplot_dims:tuple[int, int]\n",
    "    if images.shape[0] <= 8:\n",
    "        subplot_dims = (1, images.shape[0])\n",
    "    else:\n",
    "        subplot_dims = (int(np.ceil(images.shape[0]/8)), 8)\n",
    "\n",
    "    figsize = 20\n",
    "    figsize_factor = subplot_dims[0] / subplot_dims[1]\n",
    "    _, axes = plt.subplots(nrows = subplot_dims[0], \n",
    "                           ncols = subplot_dims[1], \n",
    "                           figsize = (figsize, figsize * figsize_factor))\n",
    "    for idx, ax in enumerate(axes.ravel()):\n",
    "        ax.imshow(images[idx].permute(1, 2, 0))\n",
    "        ax.tick_params(axis = \"both\", which = \"both\", \n",
    "                       bottom = False, top = False, \n",
    "                       left = False, right = False,\n",
    "                       labeltop = False, labelbottom = False, \n",
    "                       labelleft = False, labelright = False)\n",
    "        ax.set_xlabel(f\"{labels[idx]}({targets[idx]})\")"
   ]
  },
  {
   "cell_type": "code",
   "execution_count": null,
   "metadata": {},
   "outputs": [],
   "source": [
    "\n",
    "\n",
    "experiment = Hyperparameters(\n",
    "    task = \"multiclass-classification\",\n",
    "    num_classes = 45,\n",
    "    metrics = [\"accuracy\", \"f1score\"],\n",
    "    learning_rate = 1e-5,\n",
    "    batch_size = 64,\n",
    "    num_workers = 16,\n",
    "    optimizer = torch.optim.Adam,\n",
    "    criterion = torch.nn.CrossEntropyLoss(),\n",
    ")\n",
    "\n",
    "resisc_dm = ResiscDataModule(RESISC, experiment)"
   ]
  },
  {
   "cell_type": "code",
   "execution_count": null,
   "metadata": {},
   "outputs": [],
   "source": [
    "le = resisc_dm.label_encoder\n",
    "resisc_dm.setup(\"fit\")\n",
    "batch = next(iter(resisc_dm.train_dataloader()))\n",
    "images, targets = batch\n",
    "print(images.shape)\n",
    "print(targets.shape)"
   ]
  },
  {
   "cell_type": "code",
   "execution_count": null,
   "metadata": {},
   "outputs": [],
   "source": [
    "viz_batch(batch, le)"
   ]
  },
  {
   "cell_type": "code",
   "execution_count": null,
   "metadata": {},
   "outputs": [],
   "source": []
  }
 ],
 "metadata": {
  "kernelspec": {
   "display_name": "ml",
   "language": "python",
   "name": "python3"
  },
  "language_info": {
   "codemirror_mode": {
    "name": "ipython",
    "version": 3
   },
   "file_extension": ".py",
   "mimetype": "text/x-python",
   "name": "python",
   "nbconvert_exporter": "python",
   "pygments_lexer": "ipython3",
   "version": "3.11.5"
  },
  "orig_nbformat": 4
 },
 "nbformat": 4,
 "nbformat_minor": 2
}

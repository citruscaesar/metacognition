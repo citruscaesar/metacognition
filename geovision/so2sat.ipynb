{
 "cells": [
  {
   "cell_type": "code",
   "execution_count": 2,
   "metadata": {},
   "outputs": [],
   "source": [
    "from pathlib import Path\n",
    "import numpy as np\n",
    "import pandas as pd\n",
    "import imageio.v3 as iio\n",
    "import matplotlib.pyplot as plt\n",
    "import h5py"
   ]
  },
  {
   "cell_type": "code",
   "execution_count": 3,
   "metadata": {},
   "outputs": [],
   "source": [
    "ROOT = Path.home() / \"datasets\" / \"so2sat-lcz\" / \"block\"\n",
    "TRAIN = ROOT / \"training.h5\"\n",
    "TEST = ROOT / \"test.h5\""
   ]
  },
  {
   "cell_type": "code",
   "execution_count": 1,
   "metadata": {},
   "outputs": [
    {
     "data": {
      "text/plain": [
       "20480"
      ]
     },
     "execution_count": 1,
     "metadata": {},
     "output_type": "execute_result"
    }
   ],
   "source": [
    "32 * 32 * 10 * 2"
   ]
  },
  {
   "cell_type": "code",
   "execution_count": 11,
   "metadata": {},
   "outputs": [
    {
     "data": {
      "image/png": "[encoded data removed]",
      "text/plain": [
       "<Figure size 640x480 with 1 Axes>"
      ]
     },
     "metadata": {},
     "output_type": "display_data"
    }
   ],
   "source": [
    "with h5py.File(TRAIN, \"r\") as f:\n",
    "    multiband_image = f[\"sen2\"][400]\n",
    "    red = multiband_image[:,:, 3]\n",
    "    green = multiband_image[:,:, 2]\n",
    "    blue = multiband_image[:,:, 1]\n",
    "\n",
    "    rgb_image = np.stack((red, green, blue), axis = -1)\n",
    "    plt.imshow(rgb_image)\n"
   ]
  },
  {
   "cell_type": "code",
   "execution_count": 20,
   "metadata": {},
   "outputs": [],
   "source": [
    "CLASS_NAMES = [\n",
    "    \"Compact high-rise\",\n",
    "    \"Compact mid-rise\",\n",
    "    \"Compact low-rise\",\n",
    "    \"Open high-rise \",\n",
    "    \"Open mid-rise\",\n",
    "    \"Open low-rise\",\n",
    "    \"Lightweight low-rise\",\n",
    "    \"Large low-rise\",\n",
    "    \"Sparsely built\",\n",
    "    \"Heavy industry\",\n",
    "    \"Dense trees\",\n",
    "    \"Scattered tree\",\n",
    "    \"Bush, scrub\",\n",
    "    \"Low plants\",\n",
    "    \"Bare rock or paved\",\n",
    "    \"Bare soil or sand\",\n",
    "    \"Water\"\n",
    "];"
   ]
  }
 ],
 "metadata": {
  "kernelspec": {
   "display_name": "dev",
   "language": "python",
   "name": "python3"
  },
  "language_info": {
   "codemirror_mode": {
    "name": "ipython",
    "version": 3
   },
   "file_extension": ".py",
   "mimetype": "text/x-python",
   "name": "python",
   "nbconvert_exporter": "python",
   "pygments_lexer": "ipython3",
   "version": "3.1.0"
  }
 },
 "nbformat": 4,
 "nbformat_minor": 2
}

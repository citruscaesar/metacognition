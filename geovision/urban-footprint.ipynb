{
 "cells": [
  {
   "cell_type": "code",
   "execution_count": 1,
   "metadata": {},
   "outputs": [],
   "source": [
    "import shutil\n",
    "from pathlib import Path\n",
    "import numpy as np \n",
    "import pandas as pd\n",
    "import imageio.v3 as iio\n",
    "import matplotlib.pyplot as plt\n",
    "\n",
    "import zipfile\n",
    "from tqdm import tqdm\n",
    "#from tqdm.notebook import tqdm\n",
    "\n",
    "from numpy.lib.stride_tricks import sliding_window_view\n",
    "from mpl_toolkits.axes_grid1 import ImageGrid\n",
    "\n",
    "from datasets.urban_footprint_extraction import (\n",
    "    transformation_strategy_cityosm,\n",
    "    transformation_strategy_potsdam,\n",
    "    transformation_strategy_vaihingen\n",
    ")"
   ]
  },
  {
   "cell_type": "code",
   "execution_count": 2,
   "metadata": {},
   "outputs": [],
   "source": [
    "CITIES_LATLONG = {\n",
    "        \"austin\": (30.265842917057622, -97.74755465239008),\n",
    "        \"chicago\": (41.874177664952654, -87.63999821844027),\n",
    "        \"vaihingen\": (48.73014367567042, 9.104438440261527),\n",
    "        \"tokyo\": (35.864256223966, 139.7227349836842),\n",
    "        \"kitsap\": (47.69255762120212, -122.67612807263788),\n",
    "        \"tyrol-w\": (47.26856603333054, 11.405558814052391),\n",
    "        \"vienna\": (48.21066303665396, 16.378259010071375),\n",
    "        \"potsdam\": (52.38999159662546, 13.062138562210476),\n",
    "        \"berlin\": (52.52005606083578, 13.413606124150403),\n",
    "        \"zurich\": (47.37592867075607, 8.544278306670433),\n",
    "        \"paris\": (48.85512324534345, 2.3483982735980855),\n",
    "    }"
   ]
  },
  {
   "cell_type": "code",
   "execution_count": 3,
   "metadata": {},
   "outputs": [],
   "source": [
    "DATA = Path.home() / \"datasets\" / \"urban-footprint\"\n",
    "DATASET_ZIPFILES = (\"berlin\", \"paris\", \"zurich\", \"tokyo\", \"chicago\", \"inria\", \"vaihingen\", \"potsdam\")"
   ]
  },
  {
   "cell_type": "code",
   "execution_count": 5,
   "metadata": {},
   "outputs": [],
   "source": [
    "def get_tiled_view(image: np.ndarray, kernel: tuple[int, int, int]):\n",
    "    \"\"\"\n",
    "    Return a non-overlapping sliding window view of image \n",
    "\n",
    "    image.shape: (height, width, num_channels)\n",
    "    kernel.shape: (kernel_height, kernel_width, num_kernel_channels) \n",
    "\n",
    "    return.shape (#Tiles, K_H, K_W, K_C)\n",
    "    \"\"\"\n",
    "    return (\n",
    "        sliding_window_view(image, kernel[:2], (0,1)) #type: ignore\n",
    "        [::kernel[0], ::kernel[1]]\n",
    "        .reshape(-1, kernel[2], kernel[0], kernel[1])\n",
    "        .transpose(0, 2, 3, 1)\n",
    "        .squeeze()\n",
    "    )"
   ]
  },
  {
   "cell_type": "code",
   "execution_count": 6,
   "metadata": {},
   "outputs": [],
   "source": [
    "def tile_dataset(tile: tuple[int,int]):\n",
    "    filenames = sorted([f.name for f in IMAGE_DIR.iterdir()])\n",
    "    for filename in tqdm(filenames):\n",
    "        images = get_tiled_view(\n",
    "            image = iio.imread(IMAGE_DIR/filename).squeeze(),\n",
    "            kernel = (tile[0], tile[1], 3)\n",
    "        )\n",
    "        masks = get_tiled_view(\n",
    "            image = iio.imread(MASK_DIR/filename).squeeze(),\n",
    "            kernel = (tile[0], tile[1], 1)\n",
    "        )\n",
    "        name = filename.split(\".\")[0]\n",
    "        extn = filename.split(\".\")[-1]\n",
    "        try:\n",
    "            for idx, (image, mask) in enumerate(zip(images, masks)):\n",
    "                iio.imwrite(TILED_IMAGE_DIR/f\"{name}_{idx}.{extn}\", image) #type: ignore\n",
    "                iio.imwrite(TILED_MASK_DIR/f\"{name}_{idx}.{extn}\", mask) #type: ignore\n",
    "        except:\n",
    "            print(filename)\n",
    "            continue"
   ]
  },
  {
   "cell_type": "markdown",
   "metadata": {},
   "source": [
    "Train Val Test Splits\n",
    "1. Random Split: Each location will be split based on the test_split and val_split parameters\n",
    "2. Continental Split: Train on Europe, Test on NA or Vice Versa \n",
    "3. Cultural Split: Train on Developed Locations Like Paris, Chicago and Zurich and Test on Rawanda, Kenya and Rio  \n",
    "4. Unsupervised Split: Unsupervised Training on Inria-Test and Finetune on Inria-Train (with varying fractions of training data)"
   ]
  },
  {
   "cell_type": "markdown",
   "metadata": {},
   "source": [
    "Convert individual image datasets into .h5 or .npy files, dynamically load cropped images at runtime using the right dataset class. This will avoid saving multiple copies of the dataset on disk for different tile sizes. On the downside, will have to define a function to save projection information into the .h5 dataset, also will make visualization in GIS much harder."
   ]
  },
  {
   "cell_type": "code",
   "execution_count": null,
   "metadata": {},
   "outputs": [],
   "source": [
    "import zipfile\n",
    "import h5py\n",
    "\n",
    "DATASET = DATA / \"NEW2-AerialImageDataset.zip\"\n",
    "UNSUPERVISED_LOCATIONS = (\"bellingham\", \"bloomington\", \"innsbruck\", \"sfo\", \"tyrol-e\")\n",
    "SUPERVISED_LOCATIONS = (\"austin\", \"chicago\", \"kitsap\", \"vienna\", \"tyrol-w\")\n",
    "\n",
    "sup_filenames = tuple((f\"{x}{num}.tif\" for x in SUPERVISED_LOCATIONS for num in range(1, 37)))\n",
    "unsup_filenames = tuple((f\"{x}{num}.tif\" for x in UNSUPERVISED_LOCATIONS for num in range(1, 37)))\n",
    "with zipfile.ZipFile(DATASET) as zf:\n",
    "    for filename in tqdm(sup_filenames):\n",
    "        image = iio.imread(DATASET/\"AerialImageDataset\"/\"train\"/\"images\"/filename)\n",
    "        mask = iio.imread(DATASET/\"AerialImageDataset\"/\"train\"/\"gt\"/filename)\n",
    "        break"
   ]
  }
 ],
 "metadata": {
  "kernelspec": {
   "display_name": "dev",
   "language": "python",
   "name": "python3"
  },
  "language_info": {
   "codemirror_mode": {
    "name": "ipython",
    "version": 3
   },
   "file_extension": ".py",
   "mimetype": "text/x-python",
   "name": "python",
   "nbconvert_exporter": "python",
   "pygments_lexer": "ipython3",
   "version": "3.10.13"
  }
 },
 "nbformat": 4,
 "nbformat_minor": 2
}

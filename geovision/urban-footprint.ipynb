{
 "cells": [
  {
   "cell_type": "code",
   "execution_count": 1,
   "metadata": {},
   "outputs": [],
   "source": [
    "import shutil\n",
    "from pathlib import Path\n",
    "import numpy as np \n",
    "import pandas as pd\n",
    "import imageio.v3 as iio\n",
    "import matplotlib.pyplot as plt\n",
    "\n",
    "import zipfile\n",
    "from tqdm.notebook import tqdm\n",
    "\n",
    "from numpy.lib.stride_tricks import sliding_window_view\n",
    "from mpl_toolkits.axes_grid1 import ImageGrid\n",
    "\n",
    "from datasets.urban_footprint_extraction import (\n",
    "    transformation_strategy_cityosm,\n",
    "    transformation_strategy_inria,\n",
    "    transformation_strategy_potsdam,\n",
    "    transformation_strategy_vaihingen\n",
    ")"
   ]
  },
  {
   "cell_type": "code",
   "execution_count": 2,
   "metadata": {},
   "outputs": [],
   "source": [
    "DATA = Path.home() / \"datasets\" / \"urban-footprint\"\n",
    "IMAGE_DIR = DATA / \"images\"\n",
    "IMAGE_DIR.mkdir(parents=True, exist_ok=True)\n",
    "MASK_DIR = DATA / \"masks\"\n",
    "MASK_DIR.mkdir(parents=True, exist_ok=True)\n",
    "\n",
    "DATASET_ZIPFILES = (\"berlin\", \"paris\", \"zurich\", \"tokyo\", \"chicago\", \"inria\", \"vaihingen\", \"potsdam\")\n",
    "\n",
    "TILED_IMAGE_DIR = DATA / \"images_tiled\"\n",
    "TILED_IMAGE_DIR.mkdir(parents=True, exist_ok=True)\n",
    "TILED_MASK_DIR = DATA / \"masks_tiled\"\n",
    "TILED_MASK_DIR.mkdir(parents=True, exist_ok=True)"
   ]
  },
  {
   "cell_type": "code",
   "execution_count": 3,
   "metadata": {},
   "outputs": [],
   "source": [
    "# TODO: Decide Train Val Test Split From Each Location\n",
    "# TODO: Convert Mask to Map using Projection and CRS"
   ]
  },
  {
   "cell_type": "code",
   "execution_count": 4,
   "metadata": {},
   "outputs": [],
   "source": [
    "def extract(dataset_zip_path: Path):\n",
    "    dataset_name = dataset_zip_path.stem\n",
    "    if dataset_name in (\"berlin\", \"paris\", \"zurich\", \"tokyo\", \"chicago\"):\n",
    "        transformation_strategy_cityosm(dataset_zip_path, IMAGE_DIR, MASK_DIR)\n",
    "    elif dataset_name == \"inria\":\n",
    "        transformation_strategy_inria(dataset_zip_path, IMAGE_DIR, MASK_DIR)\n",
    "    elif dataset_name == \"vaihingen\":\n",
    "        transformation_strategy_vaihingen(dataset_zip_path, IMAGE_DIR, MASK_DIR)\n",
    "    elif dataset_name == \"potsdam\":\n",
    "        transformation_strategy_potsdam(dataset_zip_path, IMAGE_DIR, MASK_DIR)\n",
    "\n",
    "#for dataset in tqdm(DATASET_ZIPFILES, desc = \"Overall Progress\"):\n",
    "    #extract(DATA / \"archive\" / f\"{dataset}.zip\") "
   ]
  },
  {
   "cell_type": "code",
   "execution_count": 5,
   "metadata": {},
   "outputs": [],
   "source": [
    "def get_tiled_view(image: np.ndarray, kernel: tuple[int, int, int]):\n",
    "    \"\"\"\n",
    "    Return a non-overlapping sliding window view of image \n",
    "\n",
    "    image.shape: (height, width, num_channels)\n",
    "    kernel.shape: (kernel_height, kernel_width, num_kernel_channels) \n",
    "\n",
    "    return.shape (#Tiles, K_H, K_W, K_C)\n",
    "    \"\"\"\n",
    "    return (\n",
    "        sliding_window_view(image, kernel[:2], (0,1)) #type: ignore\n",
    "        [::kernel[0], ::kernel[1]]\n",
    "        .reshape(-1, kernel[2], kernel[0], kernel[1])\n",
    "        .transpose(0, 2, 3, 1)\n",
    "        .squeeze()\n",
    "    )"
   ]
  },
  {
   "cell_type": "code",
   "execution_count": 6,
   "metadata": {},
   "outputs": [],
   "source": [
    "def tile_dataset(tile: tuple[int,int]):\n",
    "    filenames = sorted([f.name for f in IMAGE_DIR.iterdir()])\n",
    "    for filename in tqdm(filenames):\n",
    "        images = get_tiled_view(\n",
    "            image = iio.imread(IMAGE_DIR/filename).squeeze(),\n",
    "            kernel = (tile[0], tile[1], 3)\n",
    "        )\n",
    "        masks = get_tiled_view(\n",
    "            image = iio.imread(MASK_DIR/filename).squeeze(),\n",
    "            kernel = (tile[0], tile[1], 1)\n",
    "        )\n",
    "        name = filename.split(\".\")[0]\n",
    "        extn = filename.split(\".\")[-1]\n",
    "        try:\n",
    "            for idx, (image, mask) in enumerate(zip(images, masks)):\n",
    "                iio.imwrite(TILED_IMAGE_DIR/f\"{name}_{idx}.{extn}\", image) #type: ignore\n",
    "                iio.imwrite(TILED_MASK_DIR/f\"{name}_{idx}.{extn}\", mask) #type: ignore\n",
    "        except:\n",
    "            print(filename)\n",
    "            continue"
   ]
  },
  {
   "cell_type": "code",
   "execution_count": 27,
   "metadata": {},
   "outputs": [],
   "source": [
    "def remove_nums(string: str):\n",
    "    return ''.join(filter(lambda z: not z.isdigit(), string)) \n",
    "\n",
    "def keep_alpha(string: str):\n",
    "    return ''.join(filter(lambda z: z.isalpha(), string)) "
   ]
  },
  {
   "cell_type": "code",
   "execution_count": 28,
   "metadata": {},
   "outputs": [],
   "source": [
    "from torch.utils.data import Dataset\n",
    "from torchvision.transforms.v2 import Transform\n",
    "from data.imageloaders import ImageLoader\n",
    "from pandas import DataFrame\n",
    "\n",
    "class UrbanFootprintDataset(Dataset):\n",
    "    def __init__(\n",
    "            self, \n",
    "            root: Path, \n",
    "            split: str,\n",
    "            eval_split: float,\n",
    "            random_seed: int,\n",
    "            image_transform: Transform,\n",
    "            target_transform: Transform,\n",
    "            common_transform: Transform,\n",
    "            **kwargs):\n",
    "\n",
    "        super().__init__()\n",
    "        self.root = root\n",
    "        self.image_dir = root / \"images\"\n",
    "        self.mask_dir = root / \"masks\"\n",
    "        assert split in (\"train\", \"val\", \"test\"), \"Invalid Split\"\n",
    "        self.dataframe = self.__imagefolder_dataframe()\n",
    "\n",
    "        self.split = split\n",
    "        self.eval_split = eval_split\n",
    "        self.random_seed = random_seed\n",
    "        self.image_loader = ImageLoader(\n",
    "            num_classes = 1,\n",
    "            image_transform=image_transform,\n",
    "            target_transform=target_transform,\n",
    "            common_transform=common_transform\n",
    "        )\n",
    "    \n",
    "    def __len__(self):\n",
    "        return len(self.dataframe)\n",
    "\n",
    "    def __getitem__(self, idx):\n",
    "        pass\n",
    "\n",
    "    def __imagefolder_dataframe(self) -> DataFrame:\n",
    "        df = DataFrame({\n",
    "                \"image\": sorted([f for f in self.image_dir.iterdir()]),\n",
    "                \"mask\": sorted([f for f in self.mask_dir.iterdir()])}) \n",
    "        return df"
   ]
  },
  {
   "cell_type": "code",
   "execution_count": 29,
   "metadata": {},
   "outputs": [
    {
     "data": {
      "text/plain": [
       "'\\nTrain Val Test Splits\\n\\n1. Fixed Representative Samples From Each Region (70-10-20) by # Patches\\n2. Train on American Cities and Test on European Cities \\n3. reverse(2) \\n4. Unsupervised Pretrain on Inria-Test and Finetune on Inria-Train \\n    with Representative Samples From Each Region (40-10-50) \\n'"
      ]
     },
     "execution_count": 29,
     "metadata": {},
     "output_type": "execute_result"
    }
   ],
   "source": [
    "\"\"\"\n",
    "Train Val Test Splits\n",
    "\n",
    "1. Fixed Representative Samples From Each Region (70-10-20) by # Patches\n",
    "2. Train on American Cities and Test on European Cities \n",
    "3. Vice-Versa of 2 \n",
    "4. Unsupervised Pretrain on Inria-Test and Finetune on Inria-Train \n",
    "    with Representative Samples From Each Region (40-10-50) \n",
    "\"\"\""
   ]
  },
  {
   "cell_type": "code",
   "execution_count": 30,
   "metadata": {},
   "outputs": [
    {
     "data": {
      "text/html": [
       "<div>\n",
       "<style scoped>\n",
       "    .dataframe tbody tr th:only-of-type {\n",
       "        vertical-align: middle;\n",
       "    }\n",
       "\n",
       "    .dataframe tbody tr th {\n",
       "        vertical-align: top;\n",
       "    }\n",
       "\n",
       "    .dataframe thead th {\n",
       "        text-align: right;\n",
       "    }\n",
       "</style>\n",
       "<table border=\"1\" class=\"dataframe\">\n",
       "  <thead>\n",
       "    <tr style=\"text-align: right;\">\n",
       "      <th></th>\n",
       "      <th>name</th>\n",
       "    </tr>\n",
       "    <tr>\n",
       "      <th>loc</th>\n",
       "      <th></th>\n",
       "    </tr>\n",
       "  </thead>\n",
       "  <tbody>\n",
       "    <tr>\n",
       "      <th>austin</th>\n",
       "      <td>36</td>\n",
       "    </tr>\n",
       "    <tr>\n",
       "      <th>berlin</th>\n",
       "      <td>200</td>\n",
       "    </tr>\n",
       "    <tr>\n",
       "      <th>chicago</th>\n",
       "      <td>493</td>\n",
       "    </tr>\n",
       "    <tr>\n",
       "      <th>chicago_inria</th>\n",
       "      <td>36</td>\n",
       "    </tr>\n",
       "    <tr>\n",
       "      <th>kitsap</th>\n",
       "      <td>36</td>\n",
       "    </tr>\n",
       "    <tr>\n",
       "      <th>paris</th>\n",
       "      <td>625</td>\n",
       "    </tr>\n",
       "    <tr>\n",
       "      <th>potsdam</th>\n",
       "      <td>38</td>\n",
       "    </tr>\n",
       "    <tr>\n",
       "      <th>tokyo</th>\n",
       "      <td>1</td>\n",
       "    </tr>\n",
       "    <tr>\n",
       "      <th>tyrol-w</th>\n",
       "      <td>36</td>\n",
       "    </tr>\n",
       "    <tr>\n",
       "      <th>vaihingen</th>\n",
       "      <td>33</td>\n",
       "    </tr>\n",
       "    <tr>\n",
       "      <th>vienna</th>\n",
       "      <td>36</td>\n",
       "    </tr>\n",
       "    <tr>\n",
       "      <th>zurich</th>\n",
       "      <td>364</td>\n",
       "    </tr>\n",
       "  </tbody>\n",
       "</table>\n",
       "</div>"
      ],
      "text/plain": [
       "               name\n",
       "loc                \n",
       "austin           36\n",
       "berlin          200\n",
       "chicago         493\n",
       "chicago_inria    36\n",
       "kitsap           36\n",
       "paris           625\n",
       "potsdam          38\n",
       "tokyo             1\n",
       "tyrol-w          36\n",
       "vaihingen        33\n",
       "vienna           36\n",
       "zurich          364"
      ]
     },
     "execution_count": 30,
     "metadata": {},
     "output_type": "execute_result"
    }
   ],
   "source": [
    "df = DataFrame({\"name\" : sorted([f.stem for f in IMAGE_DIR.iterdir()])})\n",
    "df[\"loc\"] = df[\"name\"].apply(lambda x: remove_nums(x))\n",
    "df.groupby(\"loc\").count()"
   ]
  },
  {
   "cell_type": "code",
   "execution_count": 42,
   "metadata": {},
   "outputs": [
    {
     "data": {
      "image/png": "[encoded data removed]",
      "text/plain": [
       "<Figure size 640x480 with 1 Axes>"
      ]
     },
     "metadata": {},
     "output_type": "display_data"
    }
   ],
   "source": [
    "df = DataFrame({\"name\" : sorted([f.stem for f in TILED_IMAGE_DIR.iterdir()])})\n",
    "df[\"loc\"] = df[\"name\"].apply(lambda x: keep_alpha(x))\n",
    "df.groupby(\"loc\").count().sort_values(\"name\").plot(kind = \"bar\", rot=45);"
   ]
  }
 ],
 "metadata": {
  "kernelspec": {
   "display_name": "dev",
   "language": "python",
   "name": "python3"
  },
  "language_info": {
   "codemirror_mode": {
    "name": "ipython",
    "version": 3
   },
   "file_extension": ".py",
   "mimetype": "text/x-python",
   "name": "python",
   "nbconvert_exporter": "python",
   "pygments_lexer": "ipython3",
   "version": "3.10.13"
  }
 },
 "nbformat": 4,
 "nbformat_minor": 2
}

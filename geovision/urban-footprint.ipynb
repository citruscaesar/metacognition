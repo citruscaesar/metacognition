{
 "cells": [
  {
   "cell_type": "code",
   "execution_count": 3,
   "metadata": {},
   "outputs": [],
   "source": [
    "import shutil\n",
    "from pathlib import Path\n",
    "import numpy as np \n",
    "import pandas as pd\n",
    "import imageio.v3 as iio\n",
    "import matplotlib.pyplot as plt\n",
    "\n",
    "import zipfile\n",
    "from tqdm.notebook import tqdm\n",
    "\n",
    "from datasets.urban_footprint_extraction import (\n",
    "    transformation_strategy_cityosm,\n",
    "    transformation_strategy_inria,\n",
    "    transformation_strategy_potsdam,\n",
    "    transformation_strategy_vaihingen\n",
    ")"
   ]
  },
  {
   "cell_type": "code",
   "execution_count": 4,
   "metadata": {},
   "outputs": [],
   "source": [
    "DATA = Path.home() / \"datasets\" / \"urban-footprint\"\n",
    "IMAGE_DIR = DATA / \"images\"\n",
    "IMAGE_DIR.mkdir(parents=True, exist_ok=True)\n",
    "MASK_DIR = DATA / \"masks\"\n",
    "MASK_DIR.mkdir(parents=True, exist_ok=True)"
   ]
  },
  {
   "cell_type": "code",
   "execution_count": 6,
   "metadata": {},
   "outputs": [],
   "source": [
    "def extract(dataset_zip_path: Path):\n",
    "    dataset_name = dataset_zip_path.stem\n",
    "    if dataset_name in (\"berlin\", \"paris\", \"zurich\", \"tokyo\", \"chicago\"):\n",
    "        transformation_strategy_cityosm(dataset_zip_path, IMAGE_DIR, MASK_DIR)\n",
    "    elif dataset_name == \"inria\":\n",
    "        transformation_strategy_inria(dataset_zip_path, IMAGE_DIR, MASK_DIR)\n",
    "    elif dataset_name == \"vaihingen\":\n",
    "        transformation_strategy_vaihingen(dataset_zip_path, IMAGE_DIR, MASK_DIR)\n",
    "    elif dataset_name == \"potsdam\":\n",
    "        transformation_strategy_potsdam(dataset_zip_path, IMAGE_DIR, MASK_DIR)"
   ]
  },
  {
   "cell_type": "code",
   "execution_count": null,
   "metadata": {},
   "outputs": [],
   "source": [
    "dataset_zipfiles = (\"berlin\", \"paris\", \"zurich\", \"tokyo\", \"chicago\", \"inria\", \"vaihingen\", \"potsdam\")\n",
    "for dataset in tqdm(dataset_zipfiles, desc = \"Overall Progress\"):\n",
    "    extract(DATA / \"archive\" / f\"{dataset}.zip\") "
   ]
  },
  {
   "cell_type": "code",
   "execution_count": null,
   "metadata": {},
   "outputs": [],
   "source": [
    "transformation_strategy_inria(DATA / \"archive\" / \"inria.zip\",\n",
    "                              IMAGE_DIR, MASK_DIR)"
   ]
  },
  {
   "cell_type": "code",
   "execution_count": null,
   "metadata": {},
   "outputs": [],
   "source": [
    "transformation_strategy_vaihingen(DATA / \"archive\" / \"vaihingen.zip\",\n",
    "                                  IMAGE_DIR, MASK_DIR)"
   ]
  },
  {
   "cell_type": "code",
   "execution_count": null,
   "metadata": {},
   "outputs": [],
   "source": [
    "transformation_strategy_potsdam(DATA / \"archive\" / \"potsdam.zip\",\n",
    "                                IMAGE_DIR, MASK_DIR)"
   ]
  }
 ],
 "metadata": {
  "kernelspec": {
   "display_name": "dev",
   "language": "python",
   "name": "python3"
  },
  "language_info": {
   "codemirror_mode": {
    "name": "ipython",
    "version": 3
   },
   "file_extension": ".py",
   "mimetype": "text/x-python",
   "name": "python",
   "nbconvert_exporter": "python",
   "pygments_lexer": "ipython3",
   "version": "3.10.13"
  }
 },
 "nbformat": 4,
 "nbformat_minor": 2
}

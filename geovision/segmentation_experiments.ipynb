{
 "cells": [
  {
   "cell_type": "code",
   "execution_count": 1,
   "metadata": {},
   "outputs": [],
   "source": [
    "%load_ext autoreload\n",
    "%load_ext dotenv\n",
    "\n",
    "%autoreload 2\n",
    "%dotenv"
   ]
  },
  {
   "cell_type": "code",
   "execution_count": 2,
   "metadata": {},
   "outputs": [],
   "source": [
    "# System Modules\n",
    "import os\n",
    "from pathlib import Path\n",
    "\n",
    "# General Purpose Libraries \n",
    "import torch\n",
    "import wandb\n",
    "import torchvision\n",
    "import numpy as np\n",
    "import pandas as pd\n",
    "import matplotlib.pyplot as plt\n",
    "%matplotlib widget\n",
    "import imageio.v3 as iio\n",
    "\n",
    "# Paths, Datasets and Datamodules\n",
    "from etl.pathfactory import PathFactory\n",
    "from etl.etl import reset_dir\n",
    "from geovision.data.datamodules import ImageDatasetDataModule \n",
    "from data.oxfordiiitpet import OxfordIIITPetSegmentation\n",
    "\n",
    "# Transforms\n",
    "import torchvision.transforms.v2 as t\n",
    "\n",
    "# Models\n",
    "from torchvision.models import alexnet, AlexNet_Weights\n",
    "\n",
    "# Tasks\n",
    "from training.tasks import SegmentationTask\n",
    "from training.callbacks import SegmentationReport \n",
    "from training.callbacks import setup_logger, setup_wandb_logger, setup_checkpoint\n",
    "from lightning.pytorch.loggers import WandbLogger\n",
    "\n",
    "#Trainers\n",
    "from lightning import Trainer\n",
    "\n",
    "# Type Hints\n",
    "from typing import Callable, Any, Optional, Literal\n",
    "from numpy.typing import NDArray\n",
    "\n",
    "# Logging\n",
    "import logging\n",
    "from lightning.pytorch.utilities import disable_possible_user_warnings # type: ignore\n",
    "logging.getLogger(\"lightning.pytorch\").setLevel(logging.ERROR)\n",
    "disable_possible_user_warnings()"
   ]
  },
  {
   "cell_type": "code",
   "execution_count": 3,
   "metadata": {},
   "outputs": [
    {
     "data": {
      "text/plain": [
       "\n",
       "        \n",
       "Local Dataset: oxford-iiit-pet @ [/home/sambhav/datasets/oxford-iiit-pet]\n",
       "Configured For: segmentation\n",
       "        \n",
       "Random Seed: 69\n",
       "Train: 60.0%\n",
       "Val: 20.0%\n",
       "Test: 20.0%\n",
       "Batch Size: 16\n",
       "        "
      ]
     },
     "metadata": {},
     "output_type": "display_data"
    }
   ],
   "source": [
    "os.environ[\"WANDB_NOTEBOOK_NAME\"] = \"segmentation_experiments.ipynb\" \n",
    "experiment = {\n",
    "    \"name\": \"test_run\",\n",
    "\n",
    "    \"model_name\": \"unet\",\n",
    "    \"model_params\": {\n",
    "        \"encoder\": \"resnet18\",\n",
    "        \"decoder\": \"deconvolution\",\n",
    "        \"weights\": \"imagenet\",\n",
    "    },\n",
    "\n",
    "    \"dataset_name\": \"oxford-iiit-pet\",\n",
    "    \"task\": \"segmentation\",\n",
    "    \"num_classes\": OxfordIIITPetSegmentation.NUM_CLASSES,\n",
    "    \"class_names\": OxfordIIITPetSegmentation.CLASS_NAMES,\n",
    "\n",
    "    \"random_seed\": 69,\n",
    "\n",
    "    \"test_split\": 0.2,\n",
    "    \"val_split\": 0.2,\n",
    "    \"batch_size\": 32,\n",
    "    \"grad_accum\": 2,\n",
    "    \"num_workers\": 4,\n",
    "\n",
    "    \"loss\": \"cross_entropy\",\n",
    "    \"loss_params\": {\n",
    "        \"reduction\": \"mean\",\n",
    "    },\n",
    "\n",
    "    \"optimizer\": \"adam\",\n",
    "    \"optimizer_params\": {\n",
    "        \"lr\": 5e-6,\n",
    "    },\n",
    "\n",
    "    \"monitor_metric\": \"jaccard\",\n",
    "    \"monitor_mode\": \"max\",\n",
    "}\n",
    "PATHS = PathFactory(experiment[\"dataset_name\"], experiment[\"task\"])\n",
    "\n",
    "image_transform = t.Compose([\n",
    "    t.ToImage(),\n",
    "    t.ToDtype(torch.float32, scale=True),\n",
    "])\n",
    "\n",
    "mask_transform = t.Compose([\n",
    "    t.ToImage(),\n",
    "    t.ToDtype(torch.float32, scale=True),\n",
    "])\n",
    "\n",
    "augmentations = t.Compose([\n",
    "    t.RandomResizedCrop((256, 256), interpolation=0, antialias=False)\n",
    "])\n",
    "\n",
    "datamodule = ImageDatasetDataModule(\n",
    "    root = PATHS.path,\n",
    "    is_remote = False,\n",
    "    is_streaming = False,\n",
    "    dataset_constructor = OxfordIIITPetSegmentation, \n",
    "    image_transform = image_transform,\n",
    "    target_transform = mask_transform,\n",
    "    common_transform = augmentations,\n",
    "    **experiment\n",
    ")\n",
    "display(datamodule)"
   ]
  },
  {
   "cell_type": "code",
   "execution_count": 4,
   "metadata": {},
   "outputs": [],
   "source": [
    "from segmentation_models_pytorch import Unet\n",
    "# from torch.nn import CrossEntropyLoss\n",
    "# from torchmetrics import JaccardIndex\n",
    "unet = Unet(experiment[\"model_params\"][\"encoder\"], classes=experiment[\"num_classes\"]) \n",
    "\n",
    "# datamodule.setup(\"fit\")\n",
    "# ds = datamodule.train_dataset \n",
    "# image, mask, idx = ds[np.random.randint(0, len(ds))]\n",
    "# mask = mask.unsqueeze(0)\n",
    "# pred = model(mask).detach()\n",
    "\n",
    "# print(mask.shape, mask.dtype, mask.min(), mask.max())\n",
    "# print(pred.shape, pred.dtype, pred.min(), pred.max())\n",
    "\n",
    "# criterion = CrossEntropyLoss()\n",
    "# print(f\"{criterion._get_name()}: {criterion(pred, mask)}\") \n",
    "\n",
    "# pred = torch.argmax(pred, 1)\n",
    "# mask = torch.argmax(mask, 1)\n",
    "\n",
    "# print(mask.shape, mask.dtype, mask.min(), mask.max())\n",
    "# print(pred.shape, pred.dtype, pred.min(), pred.max())\n",
    "\n",
    "# metric = JaccardIndex(task = \"multiclass\", num_classes = 3)\n",
    "# print(f\"{metric._get_name()}: {metric(pred, mask)}\") \n",
    "\n",
    "# _, (l, m, r) = plt.subplots(1, 3, figsize = (10, 5))\n",
    "# l.imshow(image.permute(1,2,0))\n",
    "# m.imshow(mask.squeeze())\n",
    "# r.imshow(pred.squeeze())\n",
    "# plt.show()"
   ]
  },
  {
   "cell_type": "code",
   "execution_count": 5,
   "metadata": {},
   "outputs": [
    {
     "name": "stdout",
     "output_type": "stream",
     "text": [
      "Monitoring: val_jaccard, Checkpoints Saved To: /home/sambhav/experiments/oxford-iiit-pet_segmentation/test_run/model_ckpts\n"
     ]
    }
   ],
   "source": [
    "logger = setup_logger(PATHS.experiments_path, experiment[\"name\"])\n",
    "reset_dir(logger.log_dir)\n",
    "wandb_logger = setup_wandb_logger(PATHS.experiments_path, experiment[\"name\"])\n",
    "checkpoint = setup_checkpoint(Path(logger.log_dir, \"model_ckpts\"), experiment[\"monitor_metric\"], experiment[\"monitor_mode\"]) \n",
    "segmentation_report = SegmentationReport()\n",
    "\n",
    "BEST_CKPT = checkpoint.best_model_path \n",
    "LAST_CKPT = checkpoint.last_model_path\n",
    "\n",
    "trainer = Trainer(\n",
    "    callbacks=[segmentation_report],\n",
    "    logger = [logger],\n",
    "    enable_model_summary=False,\n",
    "    enable_checkpointing=False,\n",
    "    accumulate_grad_batches=experiment[\"grad_accum\"],\n",
    "    #num_sanity_val_steps=0,\n",
    "\n",
    "    #fast_dev_run=True\n",
    "    max_epochs=9,\n",
    "    check_val_every_n_epoch=2, \n",
    "    #limit_train_batches=10,\n",
    "    #limit_test_batches=10\n",
    ")"
   ]
  },
  {
   "cell_type": "code",
   "execution_count": 6,
   "metadata": {},
   "outputs": [
    {
     "data": {
      "application/vnd.jupyter.widget-view+json": {
       "model_id": "18fd101c793d4e63ae4ca62f6385466b",
       "version_major": 2,
       "version_minor": 0
      },
      "text/plain": [
       "Sanity Checking: |          | 0/? [00:00<?, ?it/s]"
      ]
     },
     "metadata": {},
     "output_type": "display_data"
    },
    {
     "data": {
      "application/vnd.jupyter.widget-view+json": {
       "model_id": "42afb0533ac94b719522013171a81826",
       "version_major": 2,
       "version_minor": 0
      },
      "text/plain": [
       "Training: |          | 0/? [00:00<?, ?it/s]"
      ]
     },
     "metadata": {},
     "output_type": "display_data"
    },
    {
     "data": {
      "application/vnd.jupyter.widget-view+json": {
       "model_id": "41ce9485c3d44a2d8495b77b1beaceb5",
       "version_major": 2,
       "version_minor": 0
      },
      "text/plain": [
       "Validation: |          | 0/? [00:00<?, ?it/s]"
      ]
     },
     "metadata": {},
     "output_type": "display_data"
    },
    {
     "data": {
      "application/vnd.jupyter.widget-view+json": {
       "model_id": "b90113045ae746b798916865aef1db12",
       "version_major": 2,
       "version_minor": 0
      },
      "text/plain": [
       "Validation: |          | 0/? [00:00<?, ?it/s]"
      ]
     },
     "metadata": {},
     "output_type": "display_data"
    },
    {
     "data": {
      "application/vnd.jupyter.widget-view+json": {
       "model_id": "91b1b9758f4e4638a307851210a0eb08",
       "version_major": 2,
       "version_minor": 0
      },
      "text/plain": [
       "Validation: |          | 0/? [00:00<?, ?it/s]"
      ]
     },
     "metadata": {},
     "output_type": "display_data"
    },
    {
     "data": {
      "application/vnd.jupyter.widget-view+json": {
       "model_id": "7c55d98eb2bf4db3b92b80d7d40b2b75",
       "version_major": 2,
       "version_minor": 0
      },
      "text/plain": [
       "Validation: |          | 0/? [00:00<?, ?it/s]"
      ]
     },
     "metadata": {},
     "output_type": "display_data"
    }
   ],
   "source": [
    "trainer.fit(\n",
    "    model=SegmentationTask(unet, **experiment),\n",
    "    datamodule=datamodule,\n",
    "    ckpt_path=LAST_CKPT if Path(LAST_CKPT).is_file() else None,\n",
    ")"
   ]
  },
  {
   "cell_type": "code",
   "execution_count": 9,
   "metadata": {},
   "outputs": [
    {
     "data": {
      "application/vnd.jupyter.widget-view+json": {
       "model_id": "2f5337cc79984aa5a612af1bab722d48",
       "version_major": 2,
       "version_minor": 0
      },
      "text/plain": [
       "Testing: |          | 0/? [00:00<?, ?it/s]"
      ]
     },
     "metadata": {},
     "output_type": "display_data"
    },
    {
     "data": {
      "text/plain": [
       "[{'test_jaccard': 0.716504693031311,\n",
       "  'test_CrossEntropyLoss': 0.3905423581600189,\n",
       "  'test_MulticlassCohenKappa': 0.8001563549041748,\n",
       "  'test_foreground_precision': 0.9031159281730652,\n",
       "  'test_foreground_recall': 0.9353954195976257,\n",
       "  'test_foreground_jaccard': 0.8500913381576538,\n",
       "  'test_foreground_dice': 0.9189723134040833,\n",
       "  'test_foreground_support': 43469532.0,\n",
       "  'test_background_precision': 0.9303725957870483,\n",
       "  'test_background_recall': 0.9090898036956787,\n",
       "  'test_background_jaccard': 0.8511800765991211,\n",
       "  'test_background_dice': 0.9196080565452576,\n",
       "  'test_background_support': 39963832.0,\n",
       "  'test_outline_precision': 0.6345722079277039,\n",
       "  'test_outline_recall': 0.604204535484314,\n",
       "  'test_outline_jaccard': 0.44824284315109253,\n",
       "  'test_outline_dice': 0.6190161108970642,\n",
       "  'test_outline_support': 13363308.0,\n",
       "  'test_accuracy': 0.8788120746612549,\n",
       "  'test_macro_precision': 0.8367182016372681,\n",
       "  'test_macro_recall': 0.8318754434585571,\n",
       "  'test_macro_jaccard': 0.7570815682411194,\n",
       "  'test_macro_dice': 0.8341021537780762,\n",
       "  'test_macro_support': 96796672.0,\n",
       "  'test_weighted_precision': 0.8772953152656555,\n",
       "  'test_weighted_recall': 0.8788120746612549,\n",
       "  'test_weighted_jaccard': 0.7950634360313416,\n",
       "  'test_weighted_dice': 0.8778241872787476,\n",
       "  'test_weighted_support': 96796672.0}]"
      ]
     },
     "execution_count": 9,
     "metadata": {},
     "output_type": "execute_result"
    }
   ],
   "source": [
    "trainer.test(\n",
    "    model=SegmentationTask(unet, **experiment),\n",
    "    datamodule=datamodule,\n",
    "    ckpt_path=LAST_CKPT if Path(LAST_CKPT).is_file() else None,\n",
    "    verbose=False\n",
    ")"
   ]
  }
 ],
 "metadata": {
  "kernelspec": {
   "display_name": "dev",
   "language": "python",
   "name": "python3"
  },
  "language_info": {
   "codemirror_mode": {
    "name": "ipython",
    "version": 3
   },
   "file_extension": ".py",
   "mimetype": "text/x-python",
   "name": "python",
   "nbconvert_exporter": "python",
   "pygments_lexer": "ipython3",
   "version": "3.10.13"
  }
 },
 "nbformat": 4,
 "nbformat_minor": 2
}

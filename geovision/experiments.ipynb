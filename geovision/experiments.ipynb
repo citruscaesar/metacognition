{
 "cells": [
  {
   "cell_type": "code",
   "execution_count": 1,
   "metadata": {},
   "outputs": [],
   "source": [
    "# Environment Variables\n",
    "from dotenv import load_dotenv\n",
    "load_dotenv(\"../.env\");\n",
    "\n",
    "# System Modules\n",
    "from pathlib import Path\n",
    "\n",
    "# General Purpose Libraries \n",
    "import torch\n",
    "import torchvision\n",
    "import numpy as np\n",
    "import pandas as pd\n",
    "import matplotlib.pyplot as plt\n",
    "import imageio.v3 as iio\n",
    "\n",
    "# Paths, Datasets and Datamodules\n",
    "from etl.pathfactory import PathFactory\n",
    "from etl.etl import reset_dir\n",
    "from data.datamodules import ClassificationDataModule\n",
    "from data.datastreaming import ClassificationStreamingDataset\n",
    "\n",
    "# Transforms\n",
    "import torchvision.transforms.v2 as t\n",
    "\n",
    "# Models\n",
    "from torchvision.models import alexnet, AlexNet_Weights\n",
    "\n",
    "# Tasks\n",
    "from training.tasks import ClassificationTask\n",
    "\n",
    "# Loggers\n",
    "import wandb\n",
    "from lightning.pytorch.callbacks import ModelCheckpoint\n",
    "from lightning.pytorch.loggers import WandbLogger, CSVLogger\n",
    "\n",
    "#Trainers\n",
    "from lightning import Trainer\n",
    "\n",
    "# Type Hints\n",
    "from typing import Callable, Any, Optional \n",
    "from numpy.typing import NDArray"
   ]
  },
  {
   "cell_type": "code",
   "execution_count": 2,
   "metadata": {},
   "outputs": [],
   "source": [
    "LOGS_DIR = Path.cwd() / \"logs\"\n",
    "CHECKPOINTS_DIR = LOGS_DIR / \"checkpoints\"\n"
   ]
  },
  {
   "cell_type": "code",
   "execution_count": 3,
   "metadata": {},
   "outputs": [],
   "source": [
    "val_loss_ckpt = ModelCheckpoint(\n",
    "    dirpath=CHECKPOINTS_DIR,\n",
    "    filename=\"epoch={epoch}-val_loss:{val_loss:2f}\",\n",
    "    monitor=\"val_loss\",\n",
    "    mode=\"min\",\n",
    "    save_top_k=1,\n",
    "    save_last=True,\n",
    "    save_on_train_epoch_end=True,\n",
    ")\n",
    "\n",
    "csv_logger = CSVLogger(\n",
    "    save_dir=LOGS_DIR,\n",
    "    name=\"csv\",\n",
    "    version=1,\n",
    ")\n",
    "\n",
    "#wandb.finish()\n",
    "wandb_logger = WandbLogger(\n",
    "    save_dir=LOGS_DIR,\n",
    "    project=\"imagenette\",\n",
    "    log_model=False,\n",
    "    name=\"alexnet-logging-test\",\n",
    "    version='1',\n",
    "    offline=True,\n",
    ")"
   ]
  },
  {
   "cell_type": "code",
   "execution_count": 4,
   "metadata": {},
   "outputs": [],
   "source": [
    "reset_dir(LOGS_DIR)\n",
    "reset_dir(CHECKPOINTS_DIR)"
   ]
  },
  {
   "cell_type": "code",
   "execution_count": 5,
   "metadata": {},
   "outputs": [
    {
     "name": "stdout",
     "output_type": "stream",
     "text": [
      "s3://classification/shards/imagenette\n"
     ]
    },
    {
     "name": "stderr",
     "output_type": "stream",
     "text": [
      "GPU available: True (cuda), used: True\n",
      "TPU available: False, using: 0 TPU cores\n",
      "IPU available: False, using: 0 IPUs\n",
      "HPU available: False, using: 0 HPUs\n"
     ]
    }
   ],
   "source": [
    "experiment = {\n",
    "    \"dataset_name\": \"imagenette\",\n",
    "    \"task\": \"classification\",\n",
    "\n",
    "    \"eval_split\": \"predefined\",\n",
    "    \"batch_size\": 128,\n",
    "    \"grad_accum\": 4,\n",
    "    \"num_workers\": 14,\n",
    "\n",
    "    \"num_classes\": 10,\n",
    "    \"loss\": \"cross_entropy\",\n",
    "    \"optimizer\": \"adam\",\n",
    "    \"learning_rate\": 1e-5,\n",
    "    \"momentum\": 0,\n",
    "    \"weight_decay\": 0,\n",
    "}\n",
    "\n",
    "imagenette_paths = PathFactory(\"imagenette\", \"classification\")\n",
    "imagenet_means = [0.485, 0.456, 0.406]\n",
    "imagenet_std_devs = [0.229, 0.224, 0.225]\n",
    "\n",
    "# TODO: Figure out how to do the min-max scaling on every image\n",
    "image_transform = t.Compose([\n",
    "    t.ToImage(),\n",
    "    t.ToDtype(torch.float32, scale=False),\n",
    "    t.Normalize(imagenet_means, imagenet_std_devs),\n",
    "    t.Resize((224, 224), antialias=True),\n",
    "    t.RandomHorizontalFlip(0.5),\n",
    "    # t.Normalize(mean = eurosat_train_means[3:0:-1],\n",
    "    # std = eurosat_train_std_devs[3:0:-1]),\n",
    "    # t.ToDtype(torch.int32, scale = True),\n",
    "    # t.RandomResizedCrop((64, 64), antialias=True),\n",
    "    # t.ToDtype(torch.float32, scale = True),\n",
    "])\n",
    "\n",
    "datamodule = ClassificationDataModule(\n",
    "    root = imagenette_paths.shards_url,\n",
    "    is_remote = True,\n",
    "    is_sharded = True,\n",
    "    #dataframe=imagenette_dataframe(imagenette_paths.path),\n",
    "    dataset = ClassificationStreamingDataset, #type: ignore\n",
    "    image_transform = image_transform,\n",
    "    **experiment\n",
    ")\n",
    "\n",
    "alexnet_p = alexnet(weights=AlexNet_Weights.DEFAULT)\n",
    "alexnet_p.classifier[-1] = torch.nn.Linear(4096, experiment.get(\"num_classes\", 10))\n",
    "\n",
    "trainer = Trainer(\n",
    "    callbacks = [val_loss_ckpt],\n",
    "    logger = [csv_logger],\n",
    "    #logger = [csv_logger, wandb_logger],\n",
    "\n",
    "    # fast_dev_run = True,\n",
    "    max_epochs=1,\n",
    "    check_val_every_n_epoch=1,\n",
    "    limit_train_batches=30,\n",
    "    limit_val_batches=10,\n",
    "    limit_test_batches=10\n",
    ")\n",
    "\n",
    "last_ckpt_path = (CHECKPOINTS_DIR / \"last.ckpt\").as_posix() if (CHECKPOINTS_DIR / \"last.ckpt\").is_file() else None"
   ]
  },
  {
   "cell_type": "code",
   "execution_count": 6,
   "metadata": {},
   "outputs": [
    {
     "name": "stderr",
     "output_type": "stream",
     "text": [
      "LOCAL_RANK: 0 - CUDA_VISIBLE_DEVICES: [0]\n",
      "\n",
      "  | Name              | Type                      | Params\n",
      "----------------------------------------------------------------\n",
      "0 | model             | AlexNet                   | 57.0 M\n",
      "1 | criterion         | CrossEntropyLoss          | 0     \n",
      "2 | confusion_matrix  | MulticlassConfusionMatrix | 0     \n",
      "3 | cohen_kappa       | MulticlassCohenKappa      | 0     \n",
      "4 | val_metrics       | MetricCollection          | 0     \n",
      "5 | test_metrics      | MetricCollection          | 0     \n",
      "6 | classwise_metrics | MetricCollection          | 0     \n",
      "----------------------------------------------------------------\n",
      "57.0 M    Trainable params\n",
      "0         Non-trainable params\n",
      "57.0 M    Total params\n",
      "228.179   Total estimated model params size (MB)\n"
     ]
    },
    {
     "data": {
      "application/vnd.jupyter.widget-view+json": {
       "model_id": "95bc1660006a4cf1a9504fc30d281183",
       "version_major": 2,
       "version_minor": 0
      },
      "text/plain": [
       "Sanity Checking: |          | 0/? [00:00<?, ?it/s]"
      ]
     },
     "metadata": {},
     "output_type": "display_data"
    },
    {
     "name": "stderr",
     "output_type": "stream",
     "text": [
      "/home/sambhav/miniconda3/envs/dev/lib/python3.11/site-packages/lightning/pytorch/trainer/connectors/data_connector.py:441: The 'val_dataloader' does not have many workers which may be a bottleneck. Consider increasing the value of the `num_workers` argument` to `num_workers=15` in the `DataLoader` to improve performance.\n",
      "/home/sambhav/miniconda3/envs/dev/lib/python3.11/site-packages/lightning/pytorch/utilities/data.py:121: Your `IterableDataset` has `__len__` defined. In combination with multi-process data loading (when num_workers > 1), `__len__` could be inaccurate if each worker is not configured independently to avoid having duplicate data.\n",
      "/home/sambhav/miniconda3/envs/dev/lib/python3.11/site-packages/lightning/pytorch/loops/fit_loop.py:293: The number of training batches (30) is smaller than the logging interval Trainer(log_every_n_steps=50). Set a lower value for log_every_n_steps if you want to see logs for the training epoch.\n"
     ]
    },
    {
     "data": {
      "application/vnd.jupyter.widget-view+json": {
       "model_id": "02e765b054fa46e5882e526e78b3594f",
       "version_major": 2,
       "version_minor": 0
      },
      "text/plain": [
       "Training: |          | 0/? [00:00<?, ?it/s]"
      ]
     },
     "metadata": {},
     "output_type": "display_data"
    },
    {
     "data": {
      "application/vnd.jupyter.widget-view+json": {
       "model_id": "3cbaf65d60694e5793f5d370af60668b",
       "version_major": 2,
       "version_minor": 0
      },
      "text/plain": [
       "Validation: |          | 0/? [00:00<?, ?it/s]"
      ]
     },
     "metadata": {},
     "output_type": "display_data"
    },
    {
     "name": "stderr",
     "output_type": "stream",
     "text": [
      "`Trainer.fit` stopped: `max_epochs=1` reached.\n"
     ]
    }
   ],
   "source": [
    "trainer.fit(\n",
    "    model=ClassificationTask(alexnet_p, **experiment),\n",
    "    datamodule=datamodule,\n",
    "    ckpt_path=last_ckpt_path\n",
    ")"
   ]
  },
  {
   "cell_type": "code",
   "execution_count": 7,
   "metadata": {},
   "outputs": [
    {
     "name": "stderr",
     "output_type": "stream",
     "text": [
      "LOCAL_RANK: 0 - CUDA_VISIBLE_DEVICES: [0]\n",
      "/home/sambhav/miniconda3/envs/dev/lib/python3.11/site-packages/lightning/pytorch/trainer/connectors/data_connector.py:441: The 'test_dataloader' does not have many workers which may be a bottleneck. Consider increasing the value of the `num_workers` argument` to `num_workers=15` in the `DataLoader` to improve performance.\n"
     ]
    },
    {
     "data": {
      "application/vnd.jupyter.widget-view+json": {
       "model_id": "a9726a288d2542b6bcecd5b55355ab85",
       "version_major": 2,
       "version_minor": 0
      },
      "text/plain": [
       "Testing: |          | 0/? [00:00<?, ?it/s]"
      ]
     },
     "metadata": {},
     "output_type": "display_data"
    },
    {
     "name": "stderr",
     "output_type": "stream",
     "text": [
      "/home/sambhav/miniconda3/envs/dev/lib/python3.11/site-packages/torchmetrics/utilities/prints.py:43: UserWarning: No positive samples in targets, true positive value should be meaningless. Returning zero tensor in true positive score\n",
      "  warnings.warn(*args, **kwargs)  # noqa: B028\n",
      "/home/sambhav/miniconda3/envs/dev/lib/python3.11/site-packages/torchmetrics/utilities/prints.py:43: UserWarning: No negative samples in targets, false positive value should be meaningless. Returning zero tensor in false positive score\n",
      "  warnings.warn(*args, **kwargs)  # noqa: B028\n"
     ]
    },
    {
     "data": {
      "image/png": "[encoded data removed]",
      "text/plain": [
       "<Figure size 640x480 with 1 Axes>"
      ]
     },
     "metadata": {},
     "output_type": "display_data"
    },
    {
     "name": "stdout",
     "output_type": "stream",
     "text": [
      "              precision    recall  f1-score   support\n",
      "\n",
      "           0       0.00      0.00      0.00         0\n",
      "           1       0.00      0.00      0.00         0\n",
      "           2       0.00      0.00      0.00         0\n",
      "           3       1.00      0.18      0.30       320\n",
      "           4       0.00      0.00      0.00         0\n",
      "           5       0.00      0.00      0.00         0\n",
      "           6       0.00      0.00      0.00         0\n",
      "           7       0.00      0.00      0.00         0\n",
      "           8       0.00      0.00      0.00         0\n",
      "           9       0.00      0.00      0.00         0\n",
      "\n",
      "    accuracy                           0.18       320\n",
      "   macro avg       0.10      0.02      0.03       320\n",
      "weighted avg       1.00      0.18      0.30       320\n",
      "\n"
     ]
    },
    {
     "name": "stderr",
     "output_type": "stream",
     "text": [
      "/home/sambhav/miniconda3/envs/dev/lib/python3.11/site-packages/sklearn/metrics/_classification.py:1469: UndefinedMetricWarning: Recall and F-score are ill-defined and being set to 0.0 in labels with no true samples. Use `zero_division` parameter to control this behavior.\n",
      "  _warn_prf(average, modifier, msg_start, len(result))\n",
      "/home/sambhav/miniconda3/envs/dev/lib/python3.11/site-packages/sklearn/metrics/_classification.py:1469: UndefinedMetricWarning: Recall and F-score are ill-defined and being set to 0.0 in labels with no true samples. Use `zero_division` parameter to control this behavior.\n",
      "  _warn_prf(average, modifier, msg_start, len(result))\n",
      "/home/sambhav/miniconda3/envs/dev/lib/python3.11/site-packages/sklearn/metrics/_classification.py:1469: UndefinedMetricWarning: Recall and F-score are ill-defined and being set to 0.0 in labels with no true samples. Use `zero_division` parameter to control this behavior.\n",
      "  _warn_prf(average, modifier, msg_start, len(result))\n"
     ]
    },
    {
     "data": {
      "text/html": [
       "<pre style=\"white-space:pre;overflow-x:auto;line-height:normal;font-family:Menlo,'DejaVu Sans Mono',consolas,'Courier New',monospace\">┏━━━━━━━━━━━━━━━━━━━━━━━━━━━┳━━━━━━━━━━━━━━━━━━━━━━━━━━━┓\n",
       "┃<span style=\"font-weight: bold\">        Test metric        </span>┃<span style=\"font-weight: bold\">       DataLoader 0        </span>┃\n",
       "┡━━━━━━━━━━━━━━━━━━━━━━━━━━━╇━━━━━━━━━━━━━━━━━━━━━━━━━━━┩\n",
       "│<span style=\"color: #008080; text-decoration-color: #008080\">     test_cohen_kappa      </span>│<span style=\"color: #800080; text-decoration-color: #800080\">            0.0            </span>│\n",
       "│<span style=\"color: #008080; text-decoration-color: #008080\">    test_macro_accuracy    </span>│<span style=\"color: #800080; text-decoration-color: #800080\">   0.017812499776482582    </span>│\n",
       "│<span style=\"color: #008080; text-decoration-color: #008080\">     test_macro_auroc      </span>│<span style=\"color: #800080; text-decoration-color: #800080\">            0.0            </span>│\n",
       "│<span style=\"color: #008080; text-decoration-color: #008080\">       test_macro_f1       </span>│<span style=\"color: #800080; text-decoration-color: #800080\">    0.03023872710764408    </span>│\n",
       "│<span style=\"color: #008080; text-decoration-color: #008080\">   test_macro_precision    </span>│<span style=\"color: #800080; text-decoration-color: #800080\">    0.10000000149011612    </span>│\n",
       "│<span style=\"color: #008080; text-decoration-color: #008080\">     test_macro_recall     </span>│<span style=\"color: #800080; text-decoration-color: #800080\">   0.017812499776482582    </span>│\n",
       "└───────────────────────────┴───────────────────────────┘\n",
       "</pre>\n"
      ],
      "text/plain": [
       "┏━━━━━━━━━━━━━━━━━━━━━━━━━━━┳━━━━━━━━━━━━━━━━━━━━━━━━━━━┓\n",
       "┃\u001b[1m \u001b[0m\u001b[1m       Test metric       \u001b[0m\u001b[1m \u001b[0m┃\u001b[1m \u001b[0m\u001b[1m      DataLoader 0       \u001b[0m\u001b[1m \u001b[0m┃\n",
       "┡━━━━━━━━━━━━━━━━━━━━━━━━━━━╇━━━━━━━━━━━━━━━━━━━━━━━━━━━┩\n",
       "│\u001b[36m \u001b[0m\u001b[36m    test_cohen_kappa     \u001b[0m\u001b[36m \u001b[0m│\u001b[35m \u001b[0m\u001b[35m           0.0           \u001b[0m\u001b[35m \u001b[0m│\n",
       "│\u001b[36m \u001b[0m\u001b[36m   test_macro_accuracy   \u001b[0m\u001b[36m \u001b[0m│\u001b[35m \u001b[0m\u001b[35m  0.017812499776482582   \u001b[0m\u001b[35m \u001b[0m│\n",
       "│\u001b[36m \u001b[0m\u001b[36m    test_macro_auroc     \u001b[0m\u001b[36m \u001b[0m│\u001b[35m \u001b[0m\u001b[35m           0.0           \u001b[0m\u001b[35m \u001b[0m│\n",
       "│\u001b[36m \u001b[0m\u001b[36m      test_macro_f1      \u001b[0m\u001b[36m \u001b[0m│\u001b[35m \u001b[0m\u001b[35m   0.03023872710764408   \u001b[0m\u001b[35m \u001b[0m│\n",
       "│\u001b[36m \u001b[0m\u001b[36m  test_macro_precision   \u001b[0m\u001b[36m \u001b[0m│\u001b[35m \u001b[0m\u001b[35m   0.10000000149011612   \u001b[0m\u001b[35m \u001b[0m│\n",
       "│\u001b[36m \u001b[0m\u001b[36m    test_macro_recall    \u001b[0m\u001b[36m \u001b[0m│\u001b[35m \u001b[0m\u001b[35m  0.017812499776482582   \u001b[0m\u001b[35m \u001b[0m│\n",
       "└───────────────────────────┴───────────────────────────┘\n"
      ]
     },
     "metadata": {},
     "output_type": "display_data"
    },
    {
     "data": {
      "text/plain": [
       "[{'test_macro_accuracy': 0.017812499776482582,\n",
       "  'test_macro_auroc': 0.0,\n",
       "  'test_macro_f1': 0.03023872710764408,\n",
       "  'test_macro_precision': 0.10000000149011612,\n",
       "  'test_macro_recall': 0.017812499776482582,\n",
       "  'test_cohen_kappa': 0.0}]"
      ]
     },
     "execution_count": 7,
     "metadata": {},
     "output_type": "execute_result"
    }
   ],
   "source": [
    "trainer.test(\n",
    "    model=ClassificationTask(alexnet_p, **experiment),\n",
    "    datamodule=datamodule,\n",
    "    ckpt_path=last_ckpt_path\n",
    ")"
   ]
  },
  {
   "cell_type": "code",
   "execution_count": 8,
   "metadata": {},
   "outputs": [],
   "source": [
    "wandb.finish()"
   ]
  }
 ],
 "metadata": {
  "kernelspec": {
   "display_name": "dev",
   "language": "python",
   "name": "python3"
  },
  "language_info": {
   "codemirror_mode": {
    "name": "ipython",
    "version": 3
   },
   "file_extension": ".py",
   "mimetype": "text/x-python",
   "name": "python",
   "nbconvert_exporter": "python",
   "pygments_lexer": "ipython3",
   "version": "3.11.5"
  }
 },
 "nbformat": 4,
 "nbformat_minor": 2
}

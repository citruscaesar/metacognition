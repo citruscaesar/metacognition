{
 "cells": [
  {
   "cell_type": "markdown",
   "metadata": {},
   "source": [
    "#### Imports and Paths"
   ]
  },
  {
   "cell_type": "code",
   "execution_count": 1,
   "metadata": {},
   "outputs": [],
   "source": [
    "from pathlib import Path\n",
    "\n",
    "import numpy as np\n",
    "import pandas as pd\n",
    "import matplotlib.pyplot as plt\n",
    "\n",
    "import torch\n",
    "import torchdata\n",
    "import torchvision\n",
    "import torchmetrics\n",
    "import pytorch_lightning as pl\n",
    "\n",
    "from tqdm import tqdm\n",
    "from hyperparameters import Hyperparameters\n",
    "from datasets import ResiscDataModule, viz_batch\n",
    "\n",
    "%load_ext dotenv\n",
    "%dotenv\n",
    "\n",
    "DEVICE = torch.device('cuda' if torch.cuda.is_available() else 'cpu')"
   ]
  },
  {
   "cell_type": "code",
   "execution_count": 2,
   "metadata": {},
   "outputs": [],
   "source": [
    "DATA_ROOT = Path.home() / \"datasets\"\n",
    "\n",
    "RESISC = DATA_ROOT / \"resisc-45\" \n",
    "UCMERCED = DATA_ROOT / \"uc-merced\" / \"Images\"\n",
    "MLRSNET = DATA_ROOT / \"mlrs-net\""
   ]
  },
  {
   "cell_type": "code",
   "execution_count": 3,
   "metadata": {},
   "outputs": [],
   "source": [
    "### Set Random State\n"
   ]
  },
  {
   "cell_type": "code",
   "execution_count": 4,
   "metadata": {},
   "outputs": [],
   "source": [
    "class MetricParser:\n",
    "\n",
    "    clf_metrics: dict[str, callable] = {\n",
    "        \"accuracy\": torchmetrics.Accuracy,\n",
    "        \"precision\": torchmetrics.Precision,\n",
    "        \"recall\": torchmetrics.Recall,\n",
    "        \"f1score\": torchmetrics.F1Score,\n",
    "    }\n",
    "\n",
    "    reg_metrics: dict[str, callable] = {\n",
    "        \"mse\": torchmetrics.MeanSquaredError,\n",
    "        \"mae\": torchmetrics.MeanAbsoluteError\n",
    "    }\n",
    "\n",
    "    averaging: dict[str, str] = {\n",
    "        \"accuracy\": \"micro\",\n",
    "        \"precision\": \"macro\",\n",
    "        \"recall\": \"macro\",\n",
    "        \"f1score\": \"macro\"\n",
    "    }\n",
    "\n",
    "    def __init__(self, params: Hyperparameters):\n",
    "        self.task = params.task\n",
    "        self.num_classes = params.num_classes\n",
    "        self.metric_names:list = params.metrics\n",
    "\n",
    "    def parse(self):\n",
    "        return [self.parse_metric(m) for m in self.metric_names]\n",
    "\n",
    "    def parse_metric(self, metric_name) -> callable:\n",
    "        t = self.task.split('-')[-1]\n",
    "\n",
    "        if t == \"classification\":\n",
    "            metric = self.clf_metrics[metric_name] \n",
    "            return metric(task = self.task.split('-')[0],\n",
    "                          num_classes = self.num_classes,\n",
    "                          average = self.averaging[metric_name])\n",
    "\n",
    "        elif t == \"regression\":\n",
    "            metric = self.reg_metrics[metric_name]\n",
    "            return metric"
   ]
  },
  {
   "cell_type": "markdown",
   "metadata": {},
   "source": [
    "#### Models"
   ]
  },
  {
   "cell_type": "code",
   "execution_count": 10,
   "metadata": {},
   "outputs": [],
   "source": [
    "class ClassificationModel(pl.LightningModule):\n",
    "    def __init__(self, model, params: Hyperparameters):\n",
    "        super().__init__()\n",
    "        self.model = model\n",
    "        self.params = params\n",
    "        self.model.classifier[-1] = torch.nn.Linear(\n",
    "            in_features = self.model.classifier[-1].in_features,\n",
    "            out_features = params.num_classes,\n",
    "            bias = True\n",
    "        )\n",
    "        self._set_metrics()\n",
    "        self.save_hyperparameters(\n",
    "            {i:params.get_dict()[i] for i in params.get_dict().keys() if i!='criterion'},\n",
    "            ignore = [\"model\"]\n",
    "        ) \n",
    "    \n",
    "    def forward(self, batch):\n",
    "        x, _ = batch\n",
    "        return self.model(x)\n",
    "\n",
    "    def _set_metrics(self):\n",
    "        metric_parser = MetricParser(self.params)\n",
    "        self.test_metrics = torchmetrics.MetricCollection(\n",
    "            metrics = metric_parser.parse(),\n",
    "            prefix = \"test_\")\n",
    "        \n",
    "        self.val_metrics = self.test_metrics.clone(prefix = \"val_\")\n",
    "\n",
    "        metric_parser.metric_names = [\"accuracy\"]\n",
    "        self.train_metrics = torchmetrics.MetricCollection(\n",
    "            metrics = metric_parser.parse(),\n",
    "            prefix = \"train_\"\n",
    "        )\n",
    "\n",
    "    def training_step(self, batch, batch_idx):\n",
    "        loss = self._forward_pass(batch, self.train_metrics)\n",
    "        self.log(\"train_loss\", loss, on_step = True, on_epoch = True)\n",
    "        self.log_dict(self.train_metrics, on_epoch=True, on_step=False)\n",
    "        return loss\n",
    "\n",
    "    def test_step(self, batch, batch_idx):\n",
    "        loss = self._forward_pass(batch, self.test_metrics)\n",
    "        self.log(\"test_loss\", loss)\n",
    "        self.log_dict(self.test_metrics, on_epoch=True, on_step = False)\n",
    "    \n",
    "    def validation_step(self, batch, batch_idx):\n",
    "        loss = self._forward_pass(batch, self.val_metrics)\n",
    "        self.log(\"val_loss\", loss)\n",
    "        self.log_dict(self.val_metrics, on_epoch=True, on_step = False)\n",
    "      \n",
    "    def configure_optimizers(self):\n",
    "        return self.params.optimizer(self.model.parameters(), \n",
    "                                     lr = self.params.learning_rate)\n",
    "\n",
    "    def _forward_pass(self, batch, metrics):\n",
    "        x, y = batch\n",
    "        y_pred = self.model(x)\n",
    "        print(y_pred.shape)\n",
    "        print(y.shape)\n",
    "        metrics(y_pred, y) \n",
    "        return self.params.criterion(y_pred, y)"
   ]
  },
  {
   "cell_type": "code",
   "execution_count": 11,
   "metadata": {},
   "outputs": [
    {
     "name": "stderr",
     "output_type": "stream",
     "text": [
      "Global seed set to 69\n"
     ]
    }
   ],
   "source": [
    "experiment = Hyperparameters(\n",
    "    task = \"multiclass-classification\",\n",
    "    random_seed = 69,\n",
    "    num_classes = 45,\n",
    "    test_split = .25,\n",
    "    metrics = [\"accuracy\", \"f1score\"],\n",
    "    learning_rate = 1e-5,\n",
    "    batch_size = 64,\n",
    "    num_workers = 16,\n",
    "    optimizer = torch.optim.Adam,\n",
    "    criterion = torch.nn.CrossEntropyLoss(),\n",
    ")\n",
    "pl.seed_everything(69);\n",
    "\n",
    "alexnet = torchvision.models.alexnet(weights = torchvision.models.AlexNet_Weights.DEFAULT)\n",
    "resisc_dm = ResiscDataModule(RESISC, experiment)\n",
    "classifier = ClassificationModel(alexnet, experiment)"
   ]
  },
  {
   "cell_type": "code",
   "execution_count": 12,
   "metadata": {},
   "outputs": [
    {
     "data": {
      "text/plain": [
       "AlexNet(\n",
       "  (features): Sequential(\n",
       "    (0): Conv2d(3, 64, kernel_size=(11, 11), stride=(4, 4), padding=(2, 2))\n",
       "    (1): ReLU(inplace=True)\n",
       "    (2): MaxPool2d(kernel_size=3, stride=2, padding=0, dilation=1, ceil_mode=False)\n",
       "    (3): Conv2d(64, 192, kernel_size=(5, 5), stride=(1, 1), padding=(2, 2))\n",
       "    (4): ReLU(inplace=True)\n",
       "    (5): MaxPool2d(kernel_size=3, stride=2, padding=0, dilation=1, ceil_mode=False)\n",
       "    (6): Conv2d(192, 384, kernel_size=(3, 3), stride=(1, 1), padding=(1, 1))\n",
       "    (7): ReLU(inplace=True)\n",
       "    (8): Conv2d(384, 256, kernel_size=(3, 3), stride=(1, 1), padding=(1, 1))\n",
       "    (9): ReLU(inplace=True)\n",
       "    (10): Conv2d(256, 256, kernel_size=(3, 3), stride=(1, 1), padding=(1, 1))\n",
       "    (11): ReLU(inplace=True)\n",
       "    (12): MaxPool2d(kernel_size=3, stride=2, padding=0, dilation=1, ceil_mode=False)\n",
       "  )\n",
       "  (avgpool): AdaptiveAvgPool2d(output_size=(6, 6))\n",
       "  (classifier): Sequential(\n",
       "    (0): Dropout(p=0.5, inplace=False)\n",
       "    (1): Linear(in_features=9216, out_features=4096, bias=True)\n",
       "    (2): ReLU(inplace=True)\n",
       "    (3): Dropout(p=0.5, inplace=False)\n",
       "    (4): Linear(in_features=4096, out_features=4096, bias=True)\n",
       "    (5): ReLU(inplace=True)\n",
       "    (6): Linear(in_features=4096, out_features=45, bias=True)\n",
       "  )\n",
       ")"
      ]
     },
     "execution_count": 12,
     "metadata": {},
     "output_type": "execute_result"
    }
   ],
   "source": [
    "alexnet"
   ]
  },
  {
   "cell_type": "code",
   "execution_count": 13,
   "metadata": {},
   "outputs": [
    {
     "name": "stderr",
     "output_type": "stream",
     "text": [
      "GPU available: True (cuda), used: True\n",
      "TPU available: False, using: 0 TPU cores\n",
      "IPU available: False, using: 0 IPUs\n",
      "HPU available: False, using: 0 HPUs\n",
      "Running in `fast_dev_run` mode: will run the requested loop using 1 batch(es). Logging and checkpointing is suppressed.\n"
     ]
    }
   ],
   "source": [
    "trainer = pl.Trainer(fast_dev_run=True) "
   ]
  },
  {
   "cell_type": "code",
   "execution_count": 14,
   "metadata": {},
   "outputs": [
    {
     "name": "stderr",
     "output_type": "stream",
     "text": [
      "LOCAL_RANK: 0 - CUDA_VISIBLE_DEVICES: [0]\n",
      "\n",
      "  | Name          | Type             | Params\n",
      "---------------------------------------------------\n",
      "0 | model         | AlexNet          | 57.2 M\n",
      "1 | test_metrics  | MetricCollection | 0     \n",
      "2 | val_metrics   | MetricCollection | 0     \n",
      "3 | train_metrics | MetricCollection | 0     \n",
      "---------------------------------------------------\n",
      "57.2 M    Trainable params\n",
      "0         Non-trainable params\n",
      "57.2 M    Total params\n",
      "228.753   Total estimated model params size (MB)\n",
      "/home/sambhav/miniconda3/envs/dev/lib/python3.11/site-packages/pytorch_lightning/utilities/data.py:120: UserWarning: Your `IterableDataset` has `__len__` defined. In combination with multi-process data loading (when num_workers > 1), `__len__` could be inaccurate if each worker is not configured independently to avoid having duplicate data.\n",
      "  rank_zero_warn(\n"
     ]
    },
    {
     "name": "stdout",
     "output_type": "stream",
     "text": [
      "Epoch 0:   0%|          | 0/1 [00:00<?, ?it/s] torch.Size([64, 45])\n",
      "torch.Size([64])\n",
      "Epoch 0: 100%|██████████| 1/1 [00:02<00:00,  2.04s/it]torch.Size([64, 45])\n",
      "torch.Size([64])\n",
      "Epoch 0: 100%|██████████| 1/1 [00:06<00:00,  6.40s/it]"
     ]
    },
    {
     "name": "stderr",
     "output_type": "stream",
     "text": [
      "`Trainer.fit` stopped: `max_steps=1` reached.\n"
     ]
    },
    {
     "name": "stdout",
     "output_type": "stream",
     "text": [
      "Epoch 0: 100%|██████████| 1/1 [00:06<00:00,  6.40s/it]\n"
     ]
    }
   ],
   "source": [
    "trainer.fit(model = classifier, datamodule = resisc_dm)"
   ]
  },
  {
   "cell_type": "code",
   "execution_count": 9,
   "metadata": {},
   "outputs": [],
   "source": [
    "trainer.save_checkpoint(\"alexnet_train.ckpt\")"
   ]
  },
  {
   "cell_type": "code",
   "execution_count": 10,
   "metadata": {},
   "outputs": [
    {
     "name": "stderr",
     "output_type": "stream",
     "text": [
      "Restoring states from the checkpoint path at alexnet_train.ckpt\n",
      "LOCAL_RANK: 0 - CUDA_VISIBLE_DEVICES: [0]\n",
      "Loaded model weights from the checkpoint at alexnet_train.ckpt\n"
     ]
    },
    {
     "name": "stdout",
     "output_type": "stream",
     "text": [
      "Testing DataLoader 0: 100%|██████████| 99/99 [00:12<00:00,  7.69it/s]\n"
     ]
    },
    {
     "data": {
      "text/html": [
       "<pre style=\"white-space:pre;overflow-x:auto;line-height:normal;font-family:Menlo,'DejaVu Sans Mono',consolas,'Courier New',monospace\">┏━━━━━━━━━━━━━━━━━━━━━━━━━━━┳━━━━━━━━━━━━━━━━━━━━━━━━━━━┓\n",
       "┃<span style=\"font-weight: bold\">   Runningstage.testing    </span>┃<span style=\"font-weight: bold\">                           </span>┃\n",
       "┃<span style=\"font-weight: bold\">          metric           </span>┃<span style=\"font-weight: bold\">       DataLoader 0        </span>┃\n",
       "┡━━━━━━━━━━━━━━━━━━━━━━━━━━━╇━━━━━━━━━━━━━━━━━━━━━━━━━━━┩\n",
       "│<span style=\"color: #008080; text-decoration-color: #008080\">  test_MulticlassAccuracy  </span>│<span style=\"color: #800080; text-decoration-color: #800080\">    0.1792929321527481     </span>│\n",
       "│<span style=\"color: #008080; text-decoration-color: #008080\">  test_MulticlassF1Score   </span>│<span style=\"color: #800080; text-decoration-color: #800080\">    0.02902105078101158    </span>│\n",
       "│<span style=\"color: #008080; text-decoration-color: #008080\">         test_loss         </span>│<span style=\"color: #800080; text-decoration-color: #800080\">     6.833883285522461     </span>│\n",
       "└───────────────────────────┴───────────────────────────┘\n",
       "</pre>\n"
      ],
      "text/plain": [
       "┏━━━━━━━━━━━━━━━━━━━━━━━━━━━┳━━━━━━━━━━━━━━━━━━━━━━━━━━━┓\n",
       "┃\u001b[1m \u001b[0m\u001b[1m  Runningstage.testing   \u001b[0m\u001b[1m \u001b[0m┃\u001b[1m                           \u001b[0m┃\n",
       "┃\u001b[1m \u001b[0m\u001b[1m         metric          \u001b[0m\u001b[1m \u001b[0m┃\u001b[1m \u001b[0m\u001b[1m      DataLoader 0       \u001b[0m\u001b[1m \u001b[0m┃\n",
       "┡━━━━━━━━━━━━━━━━━━━━━━━━━━━╇━━━━━━━━━━━━━━━━━━━━━━━━━━━┩\n",
       "│\u001b[36m \u001b[0m\u001b[36m test_MulticlassAccuracy \u001b[0m\u001b[36m \u001b[0m│\u001b[35m \u001b[0m\u001b[35m   0.1792929321527481    \u001b[0m\u001b[35m \u001b[0m│\n",
       "│\u001b[36m \u001b[0m\u001b[36m test_MulticlassF1Score  \u001b[0m\u001b[36m \u001b[0m│\u001b[35m \u001b[0m\u001b[35m   0.02902105078101158   \u001b[0m\u001b[35m \u001b[0m│\n",
       "│\u001b[36m \u001b[0m\u001b[36m        test_loss        \u001b[0m\u001b[36m \u001b[0m│\u001b[35m \u001b[0m\u001b[35m    6.833883285522461    \u001b[0m\u001b[35m \u001b[0m│\n",
       "└───────────────────────────┴───────────────────────────┘\n"
      ]
     },
     "metadata": {},
     "output_type": "display_data"
    },
    {
     "name": "stderr",
     "output_type": "stream",
     "text": [
      "TEST Profiler Report\n",
      "\n",
      "--------------------------------------------------------------------------------------------------------------------------------------------------------------------------------------------------------------------------------------------------------------------------\n",
      "|  Action                                                                                                                                                         \t|  Mean duration (s)\t|  Num calls      \t|  Total time (s) \t|  Percentage %   \t|\n",
      "--------------------------------------------------------------------------------------------------------------------------------------------------------------------------------------------------------------------------------------------------------------------------\n",
      "|  Total                                                                                                                                                          \t|  -              \t|  18947          \t|  341.96         \t|  100 %          \t|\n",
      "--------------------------------------------------------------------------------------------------------------------------------------------------------------------------------------------------------------------------------------------------------------------------\n",
      "|  run_training_epoch                                                                                                                                             \t|  212.55         \t|  1              \t|  212.55         \t|  62.155         \t|\n",
      "|  [Strategy]SingleDeviceStrategy.batch_to_device                                                                                                                 \t|  0.20013        \t|  693            \t|  138.69         \t|  40.558         \t|\n",
      "|  [LightningModule]ClassificationModel.transfer_batch_to_device                                                                                                  \t|  0.20003        \t|  693            \t|  138.62         \t|  40.538         \t|\n",
      "|  run_training_batch                                                                                                                                             \t|  0.10099        \t|  414            \t|  41.81          \t|  12.227         \t|\n",
      "|  [LightningModule]ClassificationModel.optimizer_step                                                                                                            \t|  0.10093        \t|  414            \t|  41.786         \t|  12.219         \t|\n",
      "|  [Strategy]SingleDeviceStrategy.training_step                                                                                                                   \t|  0.096776       \t|  414            \t|  40.065         \t|  11.716         \t|\n",
      "|  [Strategy]SingleDeviceStrategy.validation_step                                                                                                                 \t|  0.10876        \t|  180            \t|  19.577         \t|  5.725          \t|\n",
      "|  [Strategy]SingleDeviceStrategy.test_step                                                                                                                       \t|  0.099386       \t|  99             \t|  9.8392         \t|  2.8773         \t|\n",
      "|  [_EvaluationLoop].val_next                                                                                                                                     \t|  0.027853       \t|  181            \t|  5.0414         \t|  1.4743         \t|\n",
      "|  [Callback]ModelCheckpoint{'monitor': None, 'mode': 'min', 'every_n_train_steps': 0, 'every_n_epochs': 1, 'train_time_interval': None}.on_train_epoch_end       \t|  1.8262         \t|  1              \t|  1.8262         \t|  0.53403        \t|\n",
      "|  [_TrainingEpochLoop].train_dataloader_next                                                                                                                     \t|  0.0034495      \t|  414            \t|  1.4281         \t|  0.41762        \t|\n",
      "|  [Strategy]SingleDeviceStrategy.backward                                                                                                                        \t|  0.0029311      \t|  414            \t|  1.2135         \t|  0.35486        \t|\n",
      "|  [_EvaluationLoop].test_next                                                                                                                                    \t|  0.0097434      \t|  99             \t|  0.9646         \t|  0.28208        \t|\n",
      "|  [Callback]TQDMProgressBar.on_train_batch_end                                                                                                                   \t|  0.0011607      \t|  414            \t|  0.48051        \t|  0.14052        \t|\n",
      "|  [Callback]TQDMProgressBar.on_validation_batch_end                                                                                                              \t|  0.0024148      \t|  180            \t|  0.43466        \t|  0.12711        \t|\n",
      "|  [Callback]TQDMProgressBar.on_test_batch_end                                                                                                                    \t|  0.00076407     \t|  99             \t|  0.075643       \t|  0.02212        \t|\n",
      "|  [Callback]TQDMProgressBar.on_validation_batch_start                                                                                                            \t|  0.00035492     \t|  180            \t|  0.063885       \t|  0.018682       \t|\n",
      "|  [LightningDataModule]ResiscDataModule.train_dataloader                                                                                                         \t|  0.046934       \t|  1              \t|  0.046934       \t|  0.013725       \t|\n",
      "|  [LightningModule]ClassificationModel.optimizer_zero_grad                                                                                                       \t|  9.3335e-05     \t|  414            \t|  0.038641       \t|  0.0113         \t|\n",
      "|  [Callback]TQDMProgressBar.on_test_start                                                                                                                        \t|  0.01654        \t|  1              \t|  0.01654        \t|  0.0048368      \t|\n",
      "|  [LightningDataModule]ResiscDataModule.setup                                                                                                                    \t|  0.0070012      \t|  2              \t|  0.014002       \t|  0.0040948      \t|\n",
      "|  [Callback]TQDMProgressBar.on_test_batch_start                                                                                                                  \t|  0.00010724     \t|  99             \t|  0.010617       \t|  0.0031046      \t|\n",
      "|  [LightningModule]ClassificationModel.configure_gradient_clipping                                                                                               \t|  2.1493e-05     \t|  414            \t|  0.008898       \t|  0.0026021      \t|\n",
      "|  [Callback]ModelCheckpoint{'monitor': None, 'mode': 'min', 'every_n_train_steps': 0, 'every_n_epochs': 1, 'train_time_interval': None}.on_train_batch_end       \t|  1.9429e-05     \t|  414            \t|  0.0080437      \t|  0.0023522      \t|\n",
      "|  [Callback]TQDMProgressBar.on_validation_start                                                                                                                  \t|  0.003242       \t|  2              \t|  0.006484       \t|  0.0018961      \t|\n",
      "|  [Callback]TQDMProgressBar.on_validation_end                                                                                                                    \t|  0.0021323      \t|  2              \t|  0.0042646      \t|  0.0012471      \t|\n",
      "|  [Callback]TQDMProgressBar.on_sanity_check_start                                                                                                                \t|  0.0029885      \t|  1              \t|  0.0029885      \t|  0.00087392     \t|\n",
      "|  [Callback]TQDMProgressBar.on_train_end                                                                                                                         \t|  0.0028061      \t|  1              \t|  0.0028061      \t|  0.0008206      \t|\n",
      "|  [Callback]ModelSummary.on_fit_start                                                                                                                            \t|  0.0022296      \t|  1              \t|  0.0022296      \t|  0.00065201     \t|\n",
      "|  [Callback]ModelSummary.on_train_batch_end                                                                                                                      \t|  4.6346e-06     \t|  414            \t|  0.0019187      \t|  0.0005611      \t|\n",
      "|  [LightningDataModule]ResiscDataModule.test_dataloader                                                                                                          \t|  0.0018011      \t|  1              \t|  0.0018011      \t|  0.00052671     \t|\n",
      "|  [Callback]ModelSummary.on_validation_batch_end                                                                                                                 \t|  9.6424e-06     \t|  180            \t|  0.0017356      \t|  0.00050756     \t|\n",
      "|  [Callback]TQDMProgressBar.on_train_start                                                                                                                       \t|  0.0016897      \t|  1              \t|  0.0016897      \t|  0.00049414     \t|\n",
      "|  [LightningModule]ClassificationModel.on_validation_model_eval                                                                                                  \t|  0.00081733     \t|  2              \t|  0.0016347      \t|  0.00047802     \t|\n",
      "|  [Callback]TQDMProgressBar.on_train_epoch_end                                                                                                                   \t|  0.001514       \t|  1              \t|  0.001514       \t|  0.00044274     \t|\n",
      "|  [LightningModule]ClassificationModel.on_before_batch_transfer                                                                                                  \t|  1.8898e-06     \t|  693            \t|  0.0013096      \t|  0.00038297     \t|\n",
      "|  [Callback]TQDMProgressBar.on_after_backward                                                                                                                    \t|  2.501e-06      \t|  414            \t|  0.0010354      \t|  0.00030278     \t|\n",
      "|  [Callback]TQDMProgressBar.on_train_batch_start                                                                                                                 \t|  2.3966e-06     \t|  414            \t|  0.00099217     \t|  0.00029014     \t|\n",
      "|  [Callback]TQDMProgressBar.on_train_epoch_start                                                                                                                 \t|  0.00086311     \t|  1              \t|  0.00086311     \t|  0.0002524      \t|\n",
      "|  [LightningModule]ClassificationModel.on_test_model_eval                                                                                                        \t|  0.00085261     \t|  1              \t|  0.00085261     \t|  0.00024933     \t|\n",
      "|  [Callback]TQDMProgressBar.on_before_zero_grad                                                                                                                  \t|  1.9583e-06     \t|  414            \t|  0.00081072     \t|  0.00023708     \t|\n",
      "|  [Callback]TQDMProgressBar.on_before_backward                                                                                                                   \t|  1.9436e-06     \t|  414            \t|  0.00080466     \t|  0.00023531     \t|\n",
      "|  [LightningModule]ClassificationModel.on_after_batch_transfer                                                                                                   \t|  1.1514e-06     \t|  693            \t|  0.00079789     \t|  0.00023333     \t|\n",
      "|  [Callback]ModelCheckpoint{'monitor': None, 'mode': 'min', 'every_n_train_steps': 0, 'every_n_epochs': 1, 'train_time_interval': None}.on_after_backward        \t|  1.3176e-06     \t|  414            \t|  0.0005455      \t|  0.00015952     \t|\n",
      "|  [Callback]TQDMProgressBar.on_test_end                                                                                                                          \t|  0.00051989     \t|  1              \t|  0.00051989     \t|  0.00015203     \t|\n",
      "|  [Callback]TQDMProgressBar.on_before_optimizer_step                                                                                                             \t|  1.0735e-06     \t|  414            \t|  0.00044441     \t|  0.00012996     \t|\n",
      "|  [LightningModule]ClassificationModel.on_train_batch_end                                                                                                        \t|  1.0109e-06     \t|  414            \t|  0.00041851     \t|  0.00012239     \t|\n",
      "|  [Callback]ModelSummary.on_validation_batch_start                                                                                                               \t|  2.2284e-06     \t|  180            \t|  0.00040112     \t|  0.0001173      \t|\n",
      "|  [LightningModule]ClassificationModel.on_validation_model_train                                                                                                 \t|  0.00019439     \t|  2              \t|  0.00038878     \t|  0.00011369     \t|\n",
      "|  [Callback]ModelSummary.on_test_batch_end                                                                                                                       \t|  3.6635e-06     \t|  99             \t|  0.00036269     \t|  0.00010606     \t|\n",
      "|  [LightningModule]ClassificationModel.on_after_backward                                                                                                         \t|  8.3284e-07     \t|  414            \t|  0.00034479     \t|  0.00010083     \t|\n",
      "|  [LightningDataModule]ResiscDataModule.val_dataloader                                                                                                           \t|  0.00034034     \t|  1              \t|  0.00034034     \t|  9.9527e-05     \t|\n",
      "|  [LightningModule]ClassificationModel.on_train_batch_start                                                                                                      \t|  8.031e-07      \t|  414            \t|  0.00033248     \t|  9.7229e-05     \t|\n",
      "|  [Callback]ModelSummary.on_before_zero_grad                                                                                                                     \t|  7.907e-07      \t|  414            \t|  0.00032735     \t|  9.5728e-05     \t|\n",
      "|  [LightningModule]ClassificationModel.on_before_zero_grad                                                                                                       \t|  7.6351e-07     \t|  414            \t|  0.00031609     \t|  9.2436e-05     \t|\n",
      "|  [LightningModule]ClassificationModel.on_validation_batch_end                                                                                                   \t|  1.7315e-06     \t|  180            \t|  0.00031167     \t|  9.1142e-05     \t|\n",
      "|  [Callback]ModelSummary.on_train_batch_start                                                                                                                    \t|  7.4807e-07     \t|  414            \t|  0.0003097      \t|  9.0567e-05     \t|\n",
      "|  [Callback]ModelCheckpoint{'monitor': None, 'mode': 'min', 'every_n_train_steps': 0, 'every_n_epochs': 1, 'train_time_interval': None}.on_before_optimizer_step \t|  7.2515e-07     \t|  414            \t|  0.00030021     \t|  8.7792e-05     \t|\n",
      "|  [Callback]ModelCheckpoint{'monitor': None, 'mode': 'min', 'every_n_train_steps': 0, 'every_n_epochs': 1, 'train_time_interval': None}.on_before_zero_grad      \t|  7.1022e-07     \t|  414            \t|  0.00029403     \t|  8.5984e-05     \t|\n",
      "|  [Callback]ModelSummary.on_after_backward                                                                                                                       \t|  6.9259e-07     \t|  414            \t|  0.00028673     \t|  8.385e-05      \t|\n",
      "|  [Callback]ModelCheckpoint{'monitor': None, 'mode': 'min', 'every_n_train_steps': 0, 'every_n_epochs': 1, 'train_time_interval': None}.on_validation_batch_end  \t|  1.5897e-06     \t|  180            \t|  0.00028614     \t|  8.3677e-05     \t|\n",
      "|  [Callback]ModelSummary.on_before_backward                                                                                                                      \t|  6.6106e-07     \t|  414            \t|  0.00027368     \t|  8.0033e-05     \t|\n",
      "|  [Strategy]SingleDeviceStrategy.on_train_batch_start                                                                                                            \t|  6.6062e-07     \t|  414            \t|  0.0002735      \t|  7.9979e-05     \t|\n",
      "|  [Callback]ModelCheckpoint{'monitor': None, 'mode': 'min', 'every_n_train_steps': 0, 'every_n_epochs': 1, 'train_time_interval': None}.on_before_backward       \t|  6.568e-07      \t|  414            \t|  0.00027192     \t|  7.9517e-05     \t|\n",
      "|  [Callback]ModelCheckpoint{'monitor': None, 'mode': 'min', 'every_n_train_steps': 0, 'every_n_epochs': 1, 'train_time_interval': None}.on_train_batch_start     \t|  6.5158e-07     \t|  414            \t|  0.00026975     \t|  7.8885e-05     \t|\n",
      "|  [Callback]ModelSummary.on_before_optimizer_step                                                                                                                \t|  6.4435e-07     \t|  414            \t|  0.00026676     \t|  7.801e-05      \t|\n",
      "|  [LightningModule]ClassificationModel.on_before_backward                                                                                                        \t|  6.2267e-07     \t|  414            \t|  0.00025779     \t|  7.5385e-05     \t|\n",
      "|  [LightningModule]ClassificationModel.configure_optimizers                                                                                                      \t|  0.00025411     \t|  1              \t|  0.00025411     \t|  7.4311e-05     \t|\n",
      "|  [LightningModule]ClassificationModel.on_validation_batch_start                                                                                                 \t|  1.4072e-06     \t|  180            \t|  0.00025329     \t|  7.4071e-05     \t|\n",
      "|  [Callback]ModelCheckpoint{'monitor': None, 'mode': 'min', 'every_n_train_steps': 0, 'every_n_epochs': 1, 'train_time_interval': None}.on_validation_batch_start\t|  1.2483e-06     \t|  180            \t|  0.00022469     \t|  6.5705e-05     \t|\n",
      "|  [LightningModule]ClassificationModel.on_before_optimizer_step                                                                                                  \t|  5.1736e-07     \t|  414            \t|  0.00021419     \t|  6.2636e-05     \t|\n",
      "|  [Callback]ModelSummary.on_test_batch_start                                                                                                                     \t|  1.5362e-06     \t|  99             \t|  0.00015208     \t|  4.4474e-05     \t|\n",
      "|  [Callback]ModelCheckpoint{'monitor': None, 'mode': 'min', 'every_n_train_steps': 0, 'every_n_epochs': 1, 'train_time_interval': None}.setup                    \t|  7.3011e-05     \t|  2              \t|  0.00014602     \t|  4.2702e-05     \t|\n",
      "|  [LightningModule]ClassificationModel.on_test_model_train                                                                                                       \t|  0.00013792     \t|  1              \t|  0.00013792     \t|  4.0333e-05     \t|\n",
      "|  [Callback]ModelCheckpoint{'monitor': None, 'mode': 'min', 'every_n_train_steps': 0, 'every_n_epochs': 1, 'train_time_interval': None}.on_validation_end        \t|  6.5085e-05     \t|  2              \t|  0.00013017     \t|  3.8066e-05     \t|\n",
      "|  [Callback]ModelCheckpoint{'monitor': None, 'mode': 'min', 'every_n_train_steps': 0, 'every_n_epochs': 1, 'train_time_interval': None}.on_test_batch_end        \t|  1.2732e-06     \t|  99             \t|  0.00012604     \t|  3.6859e-05     \t|\n",
      "|  [LightningModule]ClassificationModel.on_test_batch_end                                                                                                         \t|  1.0856e-06     \t|  99             \t|  0.00010747     \t|  3.1429e-05     \t|\n",
      "|  [LightningModule]ClassificationModel.on_test_batch_start                                                                                                       \t|  1.0355e-06     \t|  99             \t|  0.00010251     \t|  2.9978e-05     \t|\n",
      "|  [Callback]ModelCheckpoint{'monitor': None, 'mode': 'min', 'every_n_train_steps': 0, 'every_n_epochs': 1, 'train_time_interval': None}.on_test_batch_start      \t|  9.0746e-07     \t|  99             \t|  8.9839e-05     \t|  2.6272e-05     \t|\n",
      "|  [Callback]ModelSummary.on_validation_start                                                                                                                     \t|  1.3194e-05     \t|  2              \t|  2.6388e-05     \t|  7.7167e-06     \t|\n",
      "|  [Callback]TQDMProgressBar.setup                                                                                                                                \t|  1.2864e-05     \t|  2              \t|  2.5728e-05     \t|  7.5237e-06     \t|\n",
      "|  [Strategy]SingleDeviceStrategy.on_validation_start                                                                                                             \t|  8.466e-06      \t|  2              \t|  1.6932e-05     \t|  4.9515e-06     \t|\n",
      "|  [Callback]ModelSummary.on_test_start                                                                                                                           \t|  1.4357e-05     \t|  1              \t|  1.4357e-05     \t|  4.1985e-06     \t|\n",
      "|  [LightningModule]ClassificationModel.on_validation_start                                                                                                       \t|  6.041e-06      \t|  2              \t|  1.2082e-05     \t|  3.5332e-06     \t|\n",
      "|  [LightningModule]ClassificationModel.on_test_start                                                                                                             \t|  1.1181e-05     \t|  1              \t|  1.1181e-05     \t|  3.2697e-06     \t|\n",
      "|  [Callback]ModelSummary.on_validation_end                                                                                                                       \t|  5.1895e-06     \t|  2              \t|  1.0379e-05     \t|  3.0352e-06     \t|\n",
      "|  [Callback]TQDMProgressBar.on_sanity_check_end                                                                                                                  \t|  8.265e-06      \t|  1              \t|  8.265e-06      \t|  2.417e-06      \t|\n",
      "|  [Callback]ModelSummary.on_sanity_check_start                                                                                                                   \t|  7.744e-06      \t|  1              \t|  7.744e-06      \t|  2.2646e-06     \t|\n",
      "|  [Callback]ModelSummary.on_train_epoch_end                                                                                                                      \t|  7.594e-06      \t|  1              \t|  7.594e-06      \t|  2.2207e-06     \t|\n",
      "|  [Callback]TQDMProgressBar.on_validation_epoch_end                                                                                                              \t|  3.757e-06      \t|  2              \t|  7.514e-06      \t|  2.1973e-06     \t|\n",
      "|  [LightningDataModule]ResiscDataModule.state_dict                                                                                                               \t|  3.712e-06      \t|  2              \t|  7.424e-06      \t|  2.171e-06      \t|\n",
      "|  [Callback]ModelSummary.on_train_end                                                                                                                            \t|  6.722e-06      \t|  1              \t|  6.722e-06      \t|  1.9657e-06     \t|\n",
      "|  [Callback]ModelCheckpoint{'monitor': None, 'mode': 'min', 'every_n_train_steps': 0, 'every_n_epochs': 1, 'train_time_interval': None}.on_fit_start             \t|  6.673e-06      \t|  1              \t|  6.673e-06      \t|  1.9514e-06     \t|\n",
      "|  [LightningModule]ClassificationModel.configure_sharded_model                                                                                                   \t|  3.226e-06      \t|  2              \t|  6.452e-06      \t|  1.8868e-06     \t|\n",
      "|  [LightningModule]ClassificationModel.configure_callbacks                                                                                                       \t|  3.156e-06      \t|  2              \t|  6.312e-06      \t|  1.8458e-06     \t|\n",
      "|  [LightningModule]ClassificationModel.setup                                                                                                                     \t|  3.1365e-06     \t|  2              \t|  6.273e-06      \t|  1.8344e-06     \t|\n",
      "|  [Callback]ModelSummary.on_test_end                                                                                                                             \t|  6.131e-06      \t|  1              \t|  6.131e-06      \t|  1.7929e-06     \t|\n",
      "|  [Callback]ModelSummary.setup                                                                                                                                   \t|  3.0505e-06     \t|  2              \t|  6.101e-06      \t|  1.7841e-06     \t|\n",
      "|  [Strategy]SingleDeviceStrategy.on_test_start                                                                                                                   \t|  5.33e-06       \t|  1              \t|  5.33e-06       \t|  1.5587e-06     \t|\n",
      "|  [LightningModule]ClassificationModel.on_save_checkpoint                                                                                                        \t|  2.505e-06      \t|  2              \t|  5.01e-06       \t|  1.4651e-06     \t|\n",
      "|  [Callback]TQDMProgressBar.teardown                                                                                                                             \t|  2.3095e-06     \t|  2              \t|  4.619e-06      \t|  1.3507e-06     \t|\n",
      "|  [Callback]TQDMProgressBar.on_fit_end                                                                                                                           \t|  4.478e-06      \t|  1              \t|  4.478e-06      \t|  1.3095e-06     \t|\n",
      "|  [Callback]ModelCheckpoint{'monitor': None, 'mode': 'min', 'every_n_train_steps': 0, 'every_n_epochs': 1, 'train_time_interval': None}.on_train_start           \t|  4.098e-06      \t|  1              \t|  4.098e-06      \t|  1.1984e-06     \t|\n",
      "|  [Callback]ModelCheckpoint{'monitor': None, 'mode': 'min', 'every_n_train_steps': 0, 'every_n_epochs': 1, 'train_time_interval': None}.on_validation_start      \t|  2.0135e-06     \t|  2              \t|  4.027e-06      \t|  1.1776e-06     \t|\n",
      "|  [Callback]TQDMProgressBar.on_validation_epoch_start                                                                                                            \t|  1.8735e-06     \t|  2              \t|  3.747e-06      \t|  1.0957e-06     \t|\n",
      "|  [LightningDataModule]ResiscDataModule.prepare_data                                                                                                             \t|  1.829e-06      \t|  2              \t|  3.658e-06      \t|  1.0697e-06     \t|\n",
      "|  [Callback]ModelSummary.on_sanity_check_end                                                                                                                     \t|  3.637e-06      \t|  1              \t|  3.637e-06      \t|  1.0636e-06     \t|\n",
      "|  [LightningModule]ClassificationModel.prepare_data                                                                                                              \t|  1.698e-06      \t|  2              \t|  3.396e-06      \t|  9.931e-07      \t|\n",
      "|  [Callback]TQDMProgressBar.on_save_checkpoint                                                                                                                   \t|  1.6625e-06     \t|  2              \t|  3.325e-06      \t|  9.7234e-07     \t|\n",
      "|  [LightningDataModule]ResiscDataModule.teardown                                                                                                                 \t|  1.543e-06      \t|  2              \t|  3.086e-06      \t|  9.0245e-07     \t|\n",
      "|  [Callback]TQDMProgressBar.on_fit_start                                                                                                                         \t|  3.026e-06      \t|  1              \t|  3.026e-06      \t|  8.849e-07      \t|\n",
      "|  [LightningModule]ClassificationModel.on_load_checkpoint                                                                                                        \t|  3.015e-06      \t|  1              \t|  3.015e-06      \t|  8.8168e-07     \t|\n",
      "|  [LightningModule]ClassificationModel.on_validation_end                                                                                                         \t|  1.5025e-06     \t|  2              \t|  3.005e-06      \t|  8.7876e-07     \t|\n",
      "|  [LightningModule]ClassificationModel.on_train_epoch_start                                                                                                      \t|  2.715e-06      \t|  1              \t|  2.715e-06      \t|  7.9395e-07     \t|\n",
      "|  [Callback]ModelSummary.on_train_start                                                                                                                          \t|  2.645e-06      \t|  1              \t|  2.645e-06      \t|  7.7348e-07     \t|\n",
      "|  [Callback]ModelSummary.on_validation_epoch_start                                                                                                               \t|  1.2875e-06     \t|  2              \t|  2.575e-06      \t|  7.5301e-07     \t|\n",
      "|  [Callback]ModelCheckpoint{'monitor': None, 'mode': 'min', 'every_n_train_steps': 0, 'every_n_epochs': 1, 'train_time_interval': None}.on_validation_epoch_start\t|  1.268e-06      \t|  2              \t|  2.536e-06      \t|  7.4161e-07     \t|\n",
      "|  [Callback]ModelCheckpoint{'monitor': None, 'mode': 'min', 'every_n_train_steps': 0, 'every_n_epochs': 1, 'train_time_interval': None}.on_test_start            \t|  2.525e-06      \t|  1              \t|  2.525e-06      \t|  7.3839e-07     \t|\n",
      "|  [LightningModule]ClassificationModel.on_validation_epoch_end                                                                                                   \t|  1.152e-06      \t|  2              \t|  2.304e-06      \t|  6.7376e-07     \t|\n",
      "|  [Callback]TQDMProgressBar.on_test_epoch_start                                                                                                                  \t|  2.094e-06      \t|  1              \t|  2.094e-06      \t|  6.1235e-07     \t|\n",
      "|  [Callback]ModelCheckpoint{'monitor': None, 'mode': 'min', 'every_n_train_steps': 0, 'every_n_epochs': 1, 'train_time_interval': None}.on_save_checkpoint       \t|  1.0415e-06     \t|  2              \t|  2.083e-06      \t|  6.0914e-07     \t|\n",
      "|  [LightningModule]ClassificationModel.on_validation_epoch_start                                                                                                 \t|  1.032e-06      \t|  2              \t|  2.064e-06      \t|  6.0358e-07     \t|\n",
      "|  [Callback]ModelSummary.on_save_checkpoint                                                                                                                      \t|  1.017e-06      \t|  2              \t|  2.034e-06      \t|  5.9481e-07     \t|\n",
      "|  [Callback]ModelCheckpoint{'monitor': None, 'mode': 'min', 'every_n_train_steps': 0, 'every_n_epochs': 1, 'train_time_interval': None}.on_validation_epoch_end  \t|  1.0165e-06     \t|  2              \t|  2.033e-06      \t|  5.9451e-07     \t|\n",
      "|  [Strategy]SingleDeviceStrategy.on_train_end                                                                                                                    \t|  2.013e-06      \t|  1              \t|  2.013e-06      \t|  5.8867e-07     \t|\n",
      "|  [Callback]TQDMProgressBar.on_test_epoch_end                                                                                                                    \t|  1.984e-06      \t|  1              \t|  1.984e-06      \t|  5.8019e-07     \t|\n",
      "|  [Callback]ModelSummary.on_validation_epoch_end                                                                                                                 \t|  9.52e-07       \t|  2              \t|  1.904e-06      \t|  5.5679e-07     \t|\n",
      "|  [Callback]ModelSummary.teardown                                                                                                                                \t|  9.365e-07      \t|  2              \t|  1.873e-06      \t|  5.4773e-07     \t|\n",
      "|  [LightningModule]ClassificationModel.on_train_start                                                                                                            \t|  1.783e-06      \t|  1              \t|  1.783e-06      \t|  5.2141e-07     \t|\n",
      "|  [Callback]ModelCheckpoint{'monitor': None, 'mode': 'min', 'every_n_train_steps': 0, 'every_n_epochs': 1, 'train_time_interval': None}.on_sanity_check_end      \t|  1.773e-06      \t|  1              \t|  1.773e-06      \t|  5.1848e-07     \t|\n",
      "|  [Callback]ModelCheckpoint{'monitor': None, 'mode': 'min', 'every_n_train_steps': 0, 'every_n_epochs': 1, 'train_time_interval': None}.teardown                 \t|  8.76e-07       \t|  2              \t|  1.752e-06      \t|  5.1234e-07     \t|\n",
      "|  [Callback]ModelSummary.on_train_epoch_start                                                                                                                    \t|  1.663e-06      \t|  1              \t|  1.663e-06      \t|  4.8631e-07     \t|\n",
      "|  [Strategy]SingleDeviceStrategy.on_validation_end                                                                                                               \t|  8.015e-07      \t|  2              \t|  1.603e-06      \t|  4.6877e-07     \t|\n",
      "|  [Callback]ModelCheckpoint{'monitor': None, 'mode': 'min', 'every_n_train_steps': 0, 'every_n_epochs': 1, 'train_time_interval': None}.on_train_end             \t|  1.573e-06      \t|  1              \t|  1.573e-06      \t|  4.6e-07        \t|\n",
      "|  [Callback]ModelCheckpoint{'monitor': None, 'mode': 'min', 'every_n_train_steps': 0, 'every_n_epochs': 1, 'train_time_interval': None}.on_test_epoch_start      \t|  1.492e-06      \t|  1              \t|  1.492e-06      \t|  4.3631e-07     \t|\n",
      "|  [LightningModule]ClassificationModel.on_train_end                                                                                                              \t|  1.393e-06      \t|  1              \t|  1.393e-06      \t|  4.0736e-07     \t|\n",
      "|  [LightningModule]ClassificationModel.on_fit_start                                                                                                              \t|  1.363e-06      \t|  1              \t|  1.363e-06      \t|  3.9859e-07     \t|\n",
      "|  [Callback]ModelCheckpoint{'monitor': None, 'mode': 'min', 'every_n_train_steps': 0, 'every_n_epochs': 1, 'train_time_interval': None}.on_sanity_check_start    \t|  1.302e-06      \t|  1              \t|  1.302e-06      \t|  3.8075e-07     \t|\n",
      "|  [LightningModule]ClassificationModel.teardown                                                                                                                  \t|  6.365e-07      \t|  2              \t|  1.273e-06      \t|  3.7227e-07     \t|\n",
      "|  [Callback]ModelSummary.on_test_epoch_start                                                                                                                     \t|  1.243e-06      \t|  1              \t|  1.243e-06      \t|  3.6349e-07     \t|\n",
      "|  [LightningModule]ClassificationModel.on_test_epoch_start                                                                                                       \t|  1.072e-06      \t|  1              \t|  1.072e-06      \t|  3.1349e-07     \t|\n",
      "|  [LightningModule]ClassificationModel.on_test_epoch_end                                                                                                         \t|  1.062e-06      \t|  1              \t|  1.062e-06      \t|  3.1056e-07     \t|\n",
      "|  [LightningModule]ClassificationModel.on_fit_end                                                                                                                \t|  1.052e-06      \t|  1              \t|  1.052e-06      \t|  3.0764e-07     \t|\n",
      "|  [LightningModule]ClassificationModel.on_train_epoch_end                                                                                                        \t|  9.92e-07       \t|  1              \t|  9.92e-07       \t|  2.9009e-07     \t|\n",
      "|  [LightningModule]ClassificationModel.on_test_end                                                                                                               \t|  8.92e-07       \t|  1              \t|  8.92e-07       \t|  2.6085e-07     \t|\n",
      "|  [Callback]ModelSummary.on_fit_end                                                                                                                              \t|  8.12e-07       \t|  1              \t|  8.12e-07       \t|  2.3746e-07     \t|\n",
      "|  [Callback]ModelSummary.on_test_epoch_end                                                                                                                       \t|  7.91e-07       \t|  1              \t|  7.91e-07       \t|  2.3131e-07     \t|\n",
      "|  [Callback]ModelCheckpoint{'monitor': None, 'mode': 'min', 'every_n_train_steps': 0, 'every_n_epochs': 1, 'train_time_interval': None}.on_fit_end               \t|  7.82e-07       \t|  1              \t|  7.82e-07       \t|  2.2868e-07     \t|\n",
      "|  [Callback]ModelCheckpoint{'monitor': None, 'mode': 'min', 'every_n_train_steps': 0, 'every_n_epochs': 1, 'train_time_interval': None}.on_test_end              \t|  7.32e-07       \t|  1              \t|  7.32e-07       \t|  2.1406e-07     \t|\n",
      "|  [Strategy]SingleDeviceStrategy.on_test_end                                                                                                                     \t|  7.21e-07       \t|  1              \t|  7.21e-07       \t|  2.1084e-07     \t|\n",
      "|  [Callback]ModelCheckpoint{'monitor': None, 'mode': 'min', 'every_n_train_steps': 0, 'every_n_epochs': 1, 'train_time_interval': None}.on_train_epoch_start     \t|  7.21e-07       \t|  1              \t|  7.21e-07       \t|  2.1084e-07     \t|\n",
      "|  [Callback]ModelCheckpoint{'monitor': None, 'mode': 'min', 'every_n_train_steps': 0, 'every_n_epochs': 1, 'train_time_interval': None}.on_test_epoch_end        \t|  6.61e-07       \t|  1              \t|  6.61e-07       \t|  1.933e-07      \t|\n",
      "|  [Strategy]SingleDeviceStrategy.on_train_start                                                                                                                  \t|  6.51e-07       \t|  1              \t|  6.51e-07       \t|  1.9037e-07     \t|\n",
      "--------------------------------------------------------------------------------------------------------------------------------------------------------------------------------------------------------------------------------------------------------------------------\n",
      "\n"
     ]
    },
    {
     "data": {
      "text/plain": [
       "[{'test_loss': 6.833883285522461,\n",
       "  'test_MulticlassAccuracy': 0.1792929321527481,\n",
       "  'test_MulticlassF1Score': 0.02902105078101158}]"
      ]
     },
     "execution_count": 10,
     "metadata": {},
     "output_type": "execute_result"
    }
   ],
   "source": [
    "trainer.test(model = classifier, datamodule = resisc_dm, ckpt_path = \"alexnet_train.ckpt\")"
   ]
  },
  {
   "cell_type": "code",
   "execution_count": 18,
   "metadata": {},
   "outputs": [
    {
     "name": "stderr",
     "output_type": "stream",
     "text": [
      "LOCAL_RANK: 0 - CUDA_VISIBLE_DEVICES: [0]\n"
     ]
    },
    {
     "name": "stdout",
     "output_type": "stream",
     "text": [
      "Predicting DataLoader 0: 100%|██████████| 99/99 [00:12<00:00,  7.95it/s]\n"
     ]
    }
   ],
   "source": [
    "resisc_dm.setup(\"test\")\n",
    "preds = trainer.predict(model = classifier, dataloaders = resisc_dm.test_dataloader())\n",
    "truths = next(iter(resisc_dm.test_dataloader()))[1]"
   ]
  },
  {
   "cell_type": "code",
   "execution_count": 20,
   "metadata": {},
   "outputs": [],
   "source": [
    "confm = torchmetrics.classification.MulticlassConfusionMatrix(num_classes=experiment.num_classes)\n",
    "confm.update(preds[0], truths)"
   ]
  },
  {
   "cell_type": "code",
   "execution_count": null,
   "metadata": {},
   "outputs": [],
   "source": [
    "!nvidia-smi"
   ]
  }
 ],
 "metadata": {
  "kernelspec": {
   "display_name": "ml",
   "language": "python",
   "name": "python3"
  },
  "language_info": {
   "codemirror_mode": {
    "name": "ipython",
    "version": 3
   },
   "file_extension": ".py",
   "mimetype": "text/x-python",
   "name": "python",
   "nbconvert_exporter": "python",
   "pygments_lexer": "ipython3",
   "version": "3.11.5"
  },
  "orig_nbformat": 4
 },
 "nbformat": 4,
 "nbformat_minor": 2
}
